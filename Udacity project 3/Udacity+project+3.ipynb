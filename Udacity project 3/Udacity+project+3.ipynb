{
 "cells": [
  {
   "cell_type": "markdown",
   "metadata": {},
   "source": [
    "# Project: Investigating Average Rating and Profit\n",
    "\n",
    "## Table of Contents\n",
    "<ul>\n",
    "<li><a href=\"#intro\">Introduction</a></li>\n",
    "<li><a href=\"#wrangling\">Data Wrangling</a></li>\n",
    "<li><a href=\"#eda\">Exploratory Data Analysis</a></li>\n",
    "<li><a href=\"#conclusions\">Conclusions</a></li>\n",
    "</ul>"
   ]
  },
  {
   "cell_type": "markdown",
   "metadata": {},
   "source": [
    "<a id='intro'></a>\n",
    "## Introduction\n",
    "\n",
    "I am using the TMDB movie data for this analysis. The data contains information such as budget, revenue, genres, and more. It is important to note that the genres are as defined on the moviedb website. It would be interesting to create a new column, profit, and find out which genres contribute the most to profit. I also want to know which genres paired with that found genre tends to have a higher average rating. And with that, I want to know if the higher rated pairs have any correlation with popularity or profit. Finally, I want to find out how year release and movie length have an impact on average rating within the higher rated pairs.\n",
    "\n",
    "Research questions:\n",
    "\n",
    "1. Which genre contributes the most profit?\n",
    "\n",
    "2. Which genres drive that genre upward in average rating?\n",
    "\n",
    "3. Are higher rated pairs correlated with higher popularity or higher profit?\n",
    "\n",
    "4. Are the classics rated higher on compared to more modern movies?\n",
    "\n",
    "5. Are longer movies rated higher on average than shorter movies?"
   ]
  },
  {
   "cell_type": "code",
   "execution_count": 1,
   "metadata": {},
   "outputs": [
    {
     "name": "stderr",
     "output_type": "stream",
     "text": [
      "C:\\Users\\Skywind\\Anaconda3\\lib\\site-packages\\statsmodels\\compat\\pandas.py:56: FutureWarning: The pandas.core.datetools module is deprecated and will be removed in a future version. Please use the pandas.tseries module instead.\n",
      "  from pandas.core import datetools\n"
     ]
    }
   ],
   "source": [
    "import pandas as pd\n",
    "import numpy as np\n",
    "%matplotlib inline\n",
    "import matplotlib.pyplot as plt\n",
    "from plotnine import *"
   ]
  },
  {
   "cell_type": "markdown",
   "metadata": {},
   "source": [
    "<a id='wrangling'></a>\n",
    "## Data Wrangling and Cleaning\n"
   ]
  },
  {
   "cell_type": "code",
   "execution_count": 2,
   "metadata": {},
   "outputs": [
    {
     "data": {
      "text/html": [
       "<div>\n",
       "<style scoped>\n",
       "    .dataframe tbody tr th:only-of-type {\n",
       "        vertical-align: middle;\n",
       "    }\n",
       "\n",
       "    .dataframe tbody tr th {\n",
       "        vertical-align: top;\n",
       "    }\n",
       "\n",
       "    .dataframe thead th {\n",
       "        text-align: right;\n",
       "    }\n",
       "</style>\n",
       "<table border=\"1\" class=\"dataframe\">\n",
       "  <thead>\n",
       "    <tr style=\"text-align: right;\">\n",
       "      <th></th>\n",
       "      <th>id</th>\n",
       "      <th>imdb_id</th>\n",
       "      <th>popularity</th>\n",
       "      <th>budget</th>\n",
       "      <th>revenue</th>\n",
       "      <th>original_title</th>\n",
       "      <th>cast</th>\n",
       "      <th>homepage</th>\n",
       "      <th>director</th>\n",
       "      <th>tagline</th>\n",
       "      <th>...</th>\n",
       "      <th>overview</th>\n",
       "      <th>runtime</th>\n",
       "      <th>genres</th>\n",
       "      <th>production_companies</th>\n",
       "      <th>release_date</th>\n",
       "      <th>vote_count</th>\n",
       "      <th>vote_average</th>\n",
       "      <th>release_year</th>\n",
       "      <th>budget_adj</th>\n",
       "      <th>revenue_adj</th>\n",
       "    </tr>\n",
       "  </thead>\n",
       "  <tbody>\n",
       "    <tr>\n",
       "      <th>0</th>\n",
       "      <td>135397</td>\n",
       "      <td>tt0369610</td>\n",
       "      <td>32.985763</td>\n",
       "      <td>150000000</td>\n",
       "      <td>1513528810</td>\n",
       "      <td>Jurassic World</td>\n",
       "      <td>Chris Pratt|Bryce Dallas Howard|Irrfan Khan|Vi...</td>\n",
       "      <td>http://www.jurassicworld.com/</td>\n",
       "      <td>Colin Trevorrow</td>\n",
       "      <td>The park is open.</td>\n",
       "      <td>...</td>\n",
       "      <td>Twenty-two years after the events of Jurassic ...</td>\n",
       "      <td>124</td>\n",
       "      <td>Action|Adventure|Science Fiction|Thriller</td>\n",
       "      <td>Universal Studios|Amblin Entertainment|Legenda...</td>\n",
       "      <td>6/9/15</td>\n",
       "      <td>5562</td>\n",
       "      <td>6.5</td>\n",
       "      <td>2015</td>\n",
       "      <td>1.379999e+08</td>\n",
       "      <td>1.392446e+09</td>\n",
       "    </tr>\n",
       "    <tr>\n",
       "      <th>1</th>\n",
       "      <td>76341</td>\n",
       "      <td>tt1392190</td>\n",
       "      <td>28.419936</td>\n",
       "      <td>150000000</td>\n",
       "      <td>378436354</td>\n",
       "      <td>Mad Max: Fury Road</td>\n",
       "      <td>Tom Hardy|Charlize Theron|Hugh Keays-Byrne|Nic...</td>\n",
       "      <td>http://www.madmaxmovie.com/</td>\n",
       "      <td>George Miller</td>\n",
       "      <td>What a Lovely Day.</td>\n",
       "      <td>...</td>\n",
       "      <td>An apocalyptic story set in the furthest reach...</td>\n",
       "      <td>120</td>\n",
       "      <td>Action|Adventure|Science Fiction|Thriller</td>\n",
       "      <td>Village Roadshow Pictures|Kennedy Miller Produ...</td>\n",
       "      <td>5/13/15</td>\n",
       "      <td>6185</td>\n",
       "      <td>7.1</td>\n",
       "      <td>2015</td>\n",
       "      <td>1.379999e+08</td>\n",
       "      <td>3.481613e+08</td>\n",
       "    </tr>\n",
       "    <tr>\n",
       "      <th>2</th>\n",
       "      <td>262500</td>\n",
       "      <td>tt2908446</td>\n",
       "      <td>13.112507</td>\n",
       "      <td>110000000</td>\n",
       "      <td>295238201</td>\n",
       "      <td>Insurgent</td>\n",
       "      <td>Shailene Woodley|Theo James|Kate Winslet|Ansel...</td>\n",
       "      <td>http://www.thedivergentseries.movie/#insurgent</td>\n",
       "      <td>Robert Schwentke</td>\n",
       "      <td>One Choice Can Destroy You</td>\n",
       "      <td>...</td>\n",
       "      <td>Beatrice Prior must confront her inner demons ...</td>\n",
       "      <td>119</td>\n",
       "      <td>Adventure|Science Fiction|Thriller</td>\n",
       "      <td>Summit Entertainment|Mandeville Films|Red Wago...</td>\n",
       "      <td>3/18/15</td>\n",
       "      <td>2480</td>\n",
       "      <td>6.3</td>\n",
       "      <td>2015</td>\n",
       "      <td>1.012000e+08</td>\n",
       "      <td>2.716190e+08</td>\n",
       "    </tr>\n",
       "    <tr>\n",
       "      <th>3</th>\n",
       "      <td>140607</td>\n",
       "      <td>tt2488496</td>\n",
       "      <td>11.173104</td>\n",
       "      <td>200000000</td>\n",
       "      <td>2068178225</td>\n",
       "      <td>Star Wars: The Force Awakens</td>\n",
       "      <td>Harrison Ford|Mark Hamill|Carrie Fisher|Adam D...</td>\n",
       "      <td>http://www.starwars.com/films/star-wars-episod...</td>\n",
       "      <td>J.J. Abrams</td>\n",
       "      <td>Every generation has a story.</td>\n",
       "      <td>...</td>\n",
       "      <td>Thirty years after defeating the Galactic Empi...</td>\n",
       "      <td>136</td>\n",
       "      <td>Action|Adventure|Science Fiction|Fantasy</td>\n",
       "      <td>Lucasfilm|Truenorth Productions|Bad Robot</td>\n",
       "      <td>12/15/15</td>\n",
       "      <td>5292</td>\n",
       "      <td>7.5</td>\n",
       "      <td>2015</td>\n",
       "      <td>1.839999e+08</td>\n",
       "      <td>1.902723e+09</td>\n",
       "    </tr>\n",
       "    <tr>\n",
       "      <th>4</th>\n",
       "      <td>168259</td>\n",
       "      <td>tt2820852</td>\n",
       "      <td>9.335014</td>\n",
       "      <td>190000000</td>\n",
       "      <td>1506249360</td>\n",
       "      <td>Furious 7</td>\n",
       "      <td>Vin Diesel|Paul Walker|Jason Statham|Michelle ...</td>\n",
       "      <td>http://www.furious7.com/</td>\n",
       "      <td>James Wan</td>\n",
       "      <td>Vengeance Hits Home</td>\n",
       "      <td>...</td>\n",
       "      <td>Deckard Shaw seeks revenge against Dominic Tor...</td>\n",
       "      <td>137</td>\n",
       "      <td>Action|Crime|Thriller</td>\n",
       "      <td>Universal Pictures|Original Film|Media Rights ...</td>\n",
       "      <td>4/1/15</td>\n",
       "      <td>2947</td>\n",
       "      <td>7.3</td>\n",
       "      <td>2015</td>\n",
       "      <td>1.747999e+08</td>\n",
       "      <td>1.385749e+09</td>\n",
       "    </tr>\n",
       "  </tbody>\n",
       "</table>\n",
       "<p>5 rows × 21 columns</p>\n",
       "</div>"
      ],
      "text/plain": [
       "       id    imdb_id  popularity     budget     revenue  \\\n",
       "0  135397  tt0369610   32.985763  150000000  1513528810   \n",
       "1   76341  tt1392190   28.419936  150000000   378436354   \n",
       "2  262500  tt2908446   13.112507  110000000   295238201   \n",
       "3  140607  tt2488496   11.173104  200000000  2068178225   \n",
       "4  168259  tt2820852    9.335014  190000000  1506249360   \n",
       "\n",
       "                 original_title  \\\n",
       "0                Jurassic World   \n",
       "1            Mad Max: Fury Road   \n",
       "2                     Insurgent   \n",
       "3  Star Wars: The Force Awakens   \n",
       "4                     Furious 7   \n",
       "\n",
       "                                                cast  \\\n",
       "0  Chris Pratt|Bryce Dallas Howard|Irrfan Khan|Vi...   \n",
       "1  Tom Hardy|Charlize Theron|Hugh Keays-Byrne|Nic...   \n",
       "2  Shailene Woodley|Theo James|Kate Winslet|Ansel...   \n",
       "3  Harrison Ford|Mark Hamill|Carrie Fisher|Adam D...   \n",
       "4  Vin Diesel|Paul Walker|Jason Statham|Michelle ...   \n",
       "\n",
       "                                            homepage          director  \\\n",
       "0                      http://www.jurassicworld.com/   Colin Trevorrow   \n",
       "1                        http://www.madmaxmovie.com/     George Miller   \n",
       "2     http://www.thedivergentseries.movie/#insurgent  Robert Schwentke   \n",
       "3  http://www.starwars.com/films/star-wars-episod...       J.J. Abrams   \n",
       "4                           http://www.furious7.com/         James Wan   \n",
       "\n",
       "                         tagline      ...       \\\n",
       "0              The park is open.      ...        \n",
       "1             What a Lovely Day.      ...        \n",
       "2     One Choice Can Destroy You      ...        \n",
       "3  Every generation has a story.      ...        \n",
       "4            Vengeance Hits Home      ...        \n",
       "\n",
       "                                            overview runtime  \\\n",
       "0  Twenty-two years after the events of Jurassic ...     124   \n",
       "1  An apocalyptic story set in the furthest reach...     120   \n",
       "2  Beatrice Prior must confront her inner demons ...     119   \n",
       "3  Thirty years after defeating the Galactic Empi...     136   \n",
       "4  Deckard Shaw seeks revenge against Dominic Tor...     137   \n",
       "\n",
       "                                      genres  \\\n",
       "0  Action|Adventure|Science Fiction|Thriller   \n",
       "1  Action|Adventure|Science Fiction|Thriller   \n",
       "2         Adventure|Science Fiction|Thriller   \n",
       "3   Action|Adventure|Science Fiction|Fantasy   \n",
       "4                      Action|Crime|Thriller   \n",
       "\n",
       "                                production_companies release_date vote_count  \\\n",
       "0  Universal Studios|Amblin Entertainment|Legenda...       6/9/15       5562   \n",
       "1  Village Roadshow Pictures|Kennedy Miller Produ...      5/13/15       6185   \n",
       "2  Summit Entertainment|Mandeville Films|Red Wago...      3/18/15       2480   \n",
       "3          Lucasfilm|Truenorth Productions|Bad Robot     12/15/15       5292   \n",
       "4  Universal Pictures|Original Film|Media Rights ...       4/1/15       2947   \n",
       "\n",
       "   vote_average  release_year    budget_adj   revenue_adj  \n",
       "0           6.5          2015  1.379999e+08  1.392446e+09  \n",
       "1           7.1          2015  1.379999e+08  3.481613e+08  \n",
       "2           6.3          2015  1.012000e+08  2.716190e+08  \n",
       "3           7.5          2015  1.839999e+08  1.902723e+09  \n",
       "4           7.3          2015  1.747999e+08  1.385749e+09  \n",
       "\n",
       "[5 rows x 21 columns]"
      ]
     },
     "execution_count": 2,
     "metadata": {},
     "output_type": "execute_result"
    }
   ],
   "source": [
    "df = pd.read_csv('C:/Users/Skywind/Desktop/Python/tmdb-movies.csv')\n",
    "df.head()"
   ]
  },
  {
   "cell_type": "code",
   "execution_count": 3,
   "metadata": {},
   "outputs": [
    {
     "data": {
      "text/html": [
       "<div>\n",
       "<style scoped>\n",
       "    .dataframe tbody tr th:only-of-type {\n",
       "        vertical-align: middle;\n",
       "    }\n",
       "\n",
       "    .dataframe tbody tr th {\n",
       "        vertical-align: top;\n",
       "    }\n",
       "\n",
       "    .dataframe thead th {\n",
       "        text-align: right;\n",
       "    }\n",
       "</style>\n",
       "<table border=\"1\" class=\"dataframe\">\n",
       "  <thead>\n",
       "    <tr style=\"text-align: right;\">\n",
       "      <th></th>\n",
       "      <th>id</th>\n",
       "      <th>imdb_id</th>\n",
       "      <th>popularity</th>\n",
       "      <th>budget</th>\n",
       "      <th>revenue</th>\n",
       "      <th>original_title</th>\n",
       "      <th>cast</th>\n",
       "      <th>homepage</th>\n",
       "      <th>director</th>\n",
       "      <th>tagline</th>\n",
       "      <th>...</th>\n",
       "      <th>overview</th>\n",
       "      <th>runtime</th>\n",
       "      <th>genres</th>\n",
       "      <th>production_companies</th>\n",
       "      <th>release_date</th>\n",
       "      <th>vote_count</th>\n",
       "      <th>vote_average</th>\n",
       "      <th>release_year</th>\n",
       "      <th>budget_adj</th>\n",
       "      <th>revenue_adj</th>\n",
       "    </tr>\n",
       "  </thead>\n",
       "  <tbody>\n",
       "    <tr>\n",
       "      <th>2090</th>\n",
       "      <td>42194</td>\n",
       "      <td>tt0411951</td>\n",
       "      <td>0.59643</td>\n",
       "      <td>30000000</td>\n",
       "      <td>967000</td>\n",
       "      <td>TEKKEN</td>\n",
       "      <td>Jon Foo|Kelly Overton|Cary-Hiroyuki Tagawa|Ian...</td>\n",
       "      <td>NaN</td>\n",
       "      <td>Dwight H. Little</td>\n",
       "      <td>Survival is no game</td>\n",
       "      <td>...</td>\n",
       "      <td>In the year of 2039, after World Wars destroy ...</td>\n",
       "      <td>92</td>\n",
       "      <td>Crime|Drama|Action|Thriller|Science Fiction</td>\n",
       "      <td>Namco|Light Song Films</td>\n",
       "      <td>3/20/10</td>\n",
       "      <td>110</td>\n",
       "      <td>5.0</td>\n",
       "      <td>2010</td>\n",
       "      <td>30000000.0</td>\n",
       "      <td>967000.0</td>\n",
       "    </tr>\n",
       "  </tbody>\n",
       "</table>\n",
       "<p>1 rows × 21 columns</p>\n",
       "</div>"
      ],
      "text/plain": [
       "         id    imdb_id  popularity    budget  revenue original_title  \\\n",
       "2090  42194  tt0411951     0.59643  30000000   967000         TEKKEN   \n",
       "\n",
       "                                                   cast homepage  \\\n",
       "2090  Jon Foo|Kelly Overton|Cary-Hiroyuki Tagawa|Ian...      NaN   \n",
       "\n",
       "              director              tagline     ...       \\\n",
       "2090  Dwight H. Little  Survival is no game     ...        \n",
       "\n",
       "                                               overview runtime  \\\n",
       "2090  In the year of 2039, after World Wars destroy ...      92   \n",
       "\n",
       "                                           genres    production_companies  \\\n",
       "2090  Crime|Drama|Action|Thriller|Science Fiction  Namco|Light Song Films   \n",
       "\n",
       "     release_date vote_count  vote_average  release_year  budget_adj  \\\n",
       "2090      3/20/10        110           5.0          2010  30000000.0   \n",
       "\n",
       "      revenue_adj  \n",
       "2090     967000.0  \n",
       "\n",
       "[1 rows x 21 columns]"
      ]
     },
     "execution_count": 3,
     "metadata": {},
     "output_type": "execute_result"
    }
   ],
   "source": [
    "#Check for duplicated data\n",
    "df[df.duplicated()]"
   ]
  },
  {
   "cell_type": "code",
   "execution_count": 4,
   "metadata": {},
   "outputs": [
    {
     "data": {
      "text/html": [
       "<div>\n",
       "<style scoped>\n",
       "    .dataframe tbody tr th:only-of-type {\n",
       "        vertical-align: middle;\n",
       "    }\n",
       "\n",
       "    .dataframe tbody tr th {\n",
       "        vertical-align: top;\n",
       "    }\n",
       "\n",
       "    .dataframe thead th {\n",
       "        text-align: right;\n",
       "    }\n",
       "</style>\n",
       "<table border=\"1\" class=\"dataframe\">\n",
       "  <thead>\n",
       "    <tr style=\"text-align: right;\">\n",
       "      <th></th>\n",
       "      <th>id</th>\n",
       "      <th>imdb_id</th>\n",
       "      <th>popularity</th>\n",
       "      <th>budget</th>\n",
       "      <th>revenue</th>\n",
       "      <th>original_title</th>\n",
       "      <th>cast</th>\n",
       "      <th>homepage</th>\n",
       "      <th>director</th>\n",
       "      <th>tagline</th>\n",
       "      <th>...</th>\n",
       "      <th>overview</th>\n",
       "      <th>runtime</th>\n",
       "      <th>genres</th>\n",
       "      <th>production_companies</th>\n",
       "      <th>release_date</th>\n",
       "      <th>vote_count</th>\n",
       "      <th>vote_average</th>\n",
       "      <th>release_year</th>\n",
       "      <th>budget_adj</th>\n",
       "      <th>revenue_adj</th>\n",
       "    </tr>\n",
       "  </thead>\n",
       "  <tbody>\n",
       "    <tr>\n",
       "      <th>2089</th>\n",
       "      <td>42194</td>\n",
       "      <td>tt0411951</td>\n",
       "      <td>0.59643</td>\n",
       "      <td>30000000</td>\n",
       "      <td>967000</td>\n",
       "      <td>TEKKEN</td>\n",
       "      <td>Jon Foo|Kelly Overton|Cary-Hiroyuki Tagawa|Ian...</td>\n",
       "      <td>NaN</td>\n",
       "      <td>Dwight H. Little</td>\n",
       "      <td>Survival is no game</td>\n",
       "      <td>...</td>\n",
       "      <td>In the year of 2039, after World Wars destroy ...</td>\n",
       "      <td>92</td>\n",
       "      <td>Crime|Drama|Action|Thriller|Science Fiction</td>\n",
       "      <td>Namco|Light Song Films</td>\n",
       "      <td>3/20/10</td>\n",
       "      <td>110</td>\n",
       "      <td>5.0</td>\n",
       "      <td>2010</td>\n",
       "      <td>30000000.0</td>\n",
       "      <td>967000.0</td>\n",
       "    </tr>\n",
       "    <tr>\n",
       "      <th>2090</th>\n",
       "      <td>42194</td>\n",
       "      <td>tt0411951</td>\n",
       "      <td>0.59643</td>\n",
       "      <td>30000000</td>\n",
       "      <td>967000</td>\n",
       "      <td>TEKKEN</td>\n",
       "      <td>Jon Foo|Kelly Overton|Cary-Hiroyuki Tagawa|Ian...</td>\n",
       "      <td>NaN</td>\n",
       "      <td>Dwight H. Little</td>\n",
       "      <td>Survival is no game</td>\n",
       "      <td>...</td>\n",
       "      <td>In the year of 2039, after World Wars destroy ...</td>\n",
       "      <td>92</td>\n",
       "      <td>Crime|Drama|Action|Thriller|Science Fiction</td>\n",
       "      <td>Namco|Light Song Films</td>\n",
       "      <td>3/20/10</td>\n",
       "      <td>110</td>\n",
       "      <td>5.0</td>\n",
       "      <td>2010</td>\n",
       "      <td>30000000.0</td>\n",
       "      <td>967000.0</td>\n",
       "    </tr>\n",
       "  </tbody>\n",
       "</table>\n",
       "<p>2 rows × 21 columns</p>\n",
       "</div>"
      ],
      "text/plain": [
       "         id    imdb_id  popularity    budget  revenue original_title  \\\n",
       "2089  42194  tt0411951     0.59643  30000000   967000         TEKKEN   \n",
       "2090  42194  tt0411951     0.59643  30000000   967000         TEKKEN   \n",
       "\n",
       "                                                   cast homepage  \\\n",
       "2089  Jon Foo|Kelly Overton|Cary-Hiroyuki Tagawa|Ian...      NaN   \n",
       "2090  Jon Foo|Kelly Overton|Cary-Hiroyuki Tagawa|Ian...      NaN   \n",
       "\n",
       "              director              tagline     ...       \\\n",
       "2089  Dwight H. Little  Survival is no game     ...        \n",
       "2090  Dwight H. Little  Survival is no game     ...        \n",
       "\n",
       "                                               overview runtime  \\\n",
       "2089  In the year of 2039, after World Wars destroy ...      92   \n",
       "2090  In the year of 2039, after World Wars destroy ...      92   \n",
       "\n",
       "                                           genres    production_companies  \\\n",
       "2089  Crime|Drama|Action|Thriller|Science Fiction  Namco|Light Song Films   \n",
       "2090  Crime|Drama|Action|Thriller|Science Fiction  Namco|Light Song Films   \n",
       "\n",
       "     release_date vote_count  vote_average  release_year  budget_adj  \\\n",
       "2089      3/20/10        110           5.0          2010  30000000.0   \n",
       "2090      3/20/10        110           5.0          2010  30000000.0   \n",
       "\n",
       "      revenue_adj  \n",
       "2089     967000.0  \n",
       "2090     967000.0  \n",
       "\n",
       "[2 rows x 21 columns]"
      ]
     },
     "execution_count": 4,
     "metadata": {},
     "output_type": "execute_result"
    }
   ],
   "source": [
    "#Examine duplicated data\n",
    "df[df['original_title'] == 'TEKKEN']"
   ]
  },
  {
   "cell_type": "markdown",
   "metadata": {},
   "source": [
    "Here we see that indeed there are two duplicate entries. Since this particular dataset already pools in votes from all sources, there shouldn't be any duplicate entries in the dataset. We will remove one of these instances because it is repeating information and could change our analysis slightly if we keep it in."
   ]
  },
  {
   "cell_type": "code",
   "execution_count": 5,
   "metadata": {
    "collapsed": true
   },
   "outputs": [],
   "source": [
    "#Remove duplicated data\n",
    "df = df.drop_duplicates()"
   ]
  },
  {
   "cell_type": "code",
   "execution_count": 6,
   "metadata": {},
   "outputs": [
    {
     "name": "stdout",
     "output_type": "stream",
     "text": [
      "<class 'pandas.core.frame.DataFrame'>\n",
      "Int64Index: 10865 entries, 0 to 10865\n",
      "Data columns (total 21 columns):\n",
      "id                      10865 non-null int64\n",
      "imdb_id                 10855 non-null object\n",
      "popularity              10865 non-null float64\n",
      "budget                  10865 non-null int64\n",
      "revenue                 10865 non-null int64\n",
      "original_title          10865 non-null object\n",
      "cast                    10789 non-null object\n",
      "homepage                2936 non-null object\n",
      "director                10821 non-null object\n",
      "tagline                 8041 non-null object\n",
      "keywords                9372 non-null object\n",
      "overview                10861 non-null object\n",
      "runtime                 10865 non-null int64\n",
      "genres                  10842 non-null object\n",
      "production_companies    9835 non-null object\n",
      "release_date            10865 non-null object\n",
      "vote_count              10865 non-null int64\n",
      "vote_average            10865 non-null float64\n",
      "release_year            10865 non-null int64\n",
      "budget_adj              10865 non-null float64\n",
      "revenue_adj             10865 non-null float64\n",
      "dtypes: float64(4), int64(6), object(11)\n",
      "memory usage: 1.8+ MB\n"
     ]
    }
   ],
   "source": [
    "#Check for data types and null values\n",
    "df.info()"
   ]
  },
  {
   "cell_type": "markdown",
   "metadata": {},
   "source": [
    "There are a lot of useless columns here. There are null values, but I may not be using the columns with null values. I will take the columns that may be useful for my research questions. I will also create the profit column and use millions of dollars as the unit since it's easier to read. I am assuming that the profit is the budget subtracted from the revenue."
   ]
  },
  {
   "cell_type": "code",
   "execution_count": 7,
   "metadata": {},
   "outputs": [
    {
     "data": {
      "text/html": [
       "<div>\n",
       "<style scoped>\n",
       "    .dataframe tbody tr th:only-of-type {\n",
       "        vertical-align: middle;\n",
       "    }\n",
       "\n",
       "    .dataframe tbody tr th {\n",
       "        vertical-align: top;\n",
       "    }\n",
       "\n",
       "    .dataframe thead th {\n",
       "        text-align: right;\n",
       "    }\n",
       "</style>\n",
       "<table border=\"1\" class=\"dataframe\">\n",
       "  <thead>\n",
       "    <tr style=\"text-align: right;\">\n",
       "      <th></th>\n",
       "      <th>popularity</th>\n",
       "      <th>budget</th>\n",
       "      <th>revenue</th>\n",
       "      <th>genres</th>\n",
       "      <th>runtime</th>\n",
       "      <th>vote_count</th>\n",
       "      <th>vote_average</th>\n",
       "      <th>release_year</th>\n",
       "      <th>profit</th>\n",
       "    </tr>\n",
       "  </thead>\n",
       "  <tbody>\n",
       "    <tr>\n",
       "      <th>0</th>\n",
       "      <td>32.985763</td>\n",
       "      <td>150000000</td>\n",
       "      <td>1513528810</td>\n",
       "      <td>Action|Adventure|Science Fiction|Thriller</td>\n",
       "      <td>124</td>\n",
       "      <td>5562</td>\n",
       "      <td>6.5</td>\n",
       "      <td>2015</td>\n",
       "      <td>1363.528810</td>\n",
       "    </tr>\n",
       "    <tr>\n",
       "      <th>1</th>\n",
       "      <td>28.419936</td>\n",
       "      <td>150000000</td>\n",
       "      <td>378436354</td>\n",
       "      <td>Action|Adventure|Science Fiction|Thriller</td>\n",
       "      <td>120</td>\n",
       "      <td>6185</td>\n",
       "      <td>7.1</td>\n",
       "      <td>2015</td>\n",
       "      <td>228.436354</td>\n",
       "    </tr>\n",
       "    <tr>\n",
       "      <th>2</th>\n",
       "      <td>13.112507</td>\n",
       "      <td>110000000</td>\n",
       "      <td>295238201</td>\n",
       "      <td>Adventure|Science Fiction|Thriller</td>\n",
       "      <td>119</td>\n",
       "      <td>2480</td>\n",
       "      <td>6.3</td>\n",
       "      <td>2015</td>\n",
       "      <td>185.238201</td>\n",
       "    </tr>\n",
       "    <tr>\n",
       "      <th>3</th>\n",
       "      <td>11.173104</td>\n",
       "      <td>200000000</td>\n",
       "      <td>2068178225</td>\n",
       "      <td>Action|Adventure|Science Fiction|Fantasy</td>\n",
       "      <td>136</td>\n",
       "      <td>5292</td>\n",
       "      <td>7.5</td>\n",
       "      <td>2015</td>\n",
       "      <td>1868.178225</td>\n",
       "    </tr>\n",
       "    <tr>\n",
       "      <th>4</th>\n",
       "      <td>9.335014</td>\n",
       "      <td>190000000</td>\n",
       "      <td>1506249360</td>\n",
       "      <td>Action|Crime|Thriller</td>\n",
       "      <td>137</td>\n",
       "      <td>2947</td>\n",
       "      <td>7.3</td>\n",
       "      <td>2015</td>\n",
       "      <td>1316.249360</td>\n",
       "    </tr>\n",
       "  </tbody>\n",
       "</table>\n",
       "</div>"
      ],
      "text/plain": [
       "   popularity     budget     revenue  \\\n",
       "0   32.985763  150000000  1513528810   \n",
       "1   28.419936  150000000   378436354   \n",
       "2   13.112507  110000000   295238201   \n",
       "3   11.173104  200000000  2068178225   \n",
       "4    9.335014  190000000  1506249360   \n",
       "\n",
       "                                      genres  runtime  vote_count  \\\n",
       "0  Action|Adventure|Science Fiction|Thriller      124        5562   \n",
       "1  Action|Adventure|Science Fiction|Thriller      120        6185   \n",
       "2         Adventure|Science Fiction|Thriller      119        2480   \n",
       "3   Action|Adventure|Science Fiction|Fantasy      136        5292   \n",
       "4                      Action|Crime|Thriller      137        2947   \n",
       "\n",
       "   vote_average  release_year       profit  \n",
       "0           6.5          2015  1363.528810  \n",
       "1           7.1          2015   228.436354  \n",
       "2           6.3          2015   185.238201  \n",
       "3           7.5          2015  1868.178225  \n",
       "4           7.3          2015  1316.249360  "
      ]
     },
     "execution_count": 7,
     "metadata": {},
     "output_type": "execute_result"
    }
   ],
   "source": [
    "#Subset data\n",
    "df2 = df[['popularity', 'budget', 'revenue', 'genres', 'runtime', 'vote_count', 'vote_average', 'release_year']]\n",
    "\n",
    "#Create profit column\n",
    "df2 = df2.assign(profit = (df2['revenue'] - df2['budget'])/1000000)\n",
    "\n",
    "df2.head()"
   ]
  },
  {
   "cell_type": "code",
   "execution_count": 8,
   "metadata": {},
   "outputs": [
    {
     "name": "stdout",
     "output_type": "stream",
     "text": [
      "<class 'pandas.core.frame.DataFrame'>\n",
      "Int64Index: 10865 entries, 0 to 10865\n",
      "Data columns (total 9 columns):\n",
      "popularity      10865 non-null float64\n",
      "budget          10865 non-null int64\n",
      "revenue         10865 non-null int64\n",
      "genres          10842 non-null object\n",
      "runtime         10865 non-null int64\n",
      "vote_count      10865 non-null int64\n",
      "vote_average    10865 non-null float64\n",
      "release_year    10865 non-null int64\n",
      "profit          10865 non-null float64\n",
      "dtypes: float64(3), int64(5), object(1)\n",
      "memory usage: 848.8+ KB\n"
     ]
    }
   ],
   "source": [
    "df2.info()"
   ]
  },
  {
   "cell_type": "markdown",
   "metadata": {},
   "source": [
    "From this we see that the data types of the variables are in the correct form except for release_year as an integer instead of a date. But, I plan to recode this column so as an integer is more convenient. There appears to be null values in genres. I will check to see where they are null."
   ]
  },
  {
   "cell_type": "code",
   "execution_count": 9,
   "metadata": {},
   "outputs": [
    {
     "data": {
      "text/html": [
       "<div>\n",
       "<style scoped>\n",
       "    .dataframe tbody tr th:only-of-type {\n",
       "        vertical-align: middle;\n",
       "    }\n",
       "\n",
       "    .dataframe tbody tr th {\n",
       "        vertical-align: top;\n",
       "    }\n",
       "\n",
       "    .dataframe thead th {\n",
       "        text-align: right;\n",
       "    }\n",
       "</style>\n",
       "<table border=\"1\" class=\"dataframe\">\n",
       "  <thead>\n",
       "    <tr style=\"text-align: right;\">\n",
       "      <th></th>\n",
       "      <th>popularity</th>\n",
       "      <th>budget</th>\n",
       "      <th>revenue</th>\n",
       "      <th>genres</th>\n",
       "      <th>runtime</th>\n",
       "      <th>vote_count</th>\n",
       "      <th>vote_average</th>\n",
       "      <th>release_year</th>\n",
       "      <th>profit</th>\n",
       "    </tr>\n",
       "  </thead>\n",
       "  <tbody>\n",
       "    <tr>\n",
       "      <th>424</th>\n",
       "      <td>0.244648</td>\n",
       "      <td>0</td>\n",
       "      <td>0</td>\n",
       "      <td>NaN</td>\n",
       "      <td>100</td>\n",
       "      <td>21</td>\n",
       "      <td>6.1</td>\n",
       "      <td>2015</td>\n",
       "      <td>0.000</td>\n",
       "    </tr>\n",
       "    <tr>\n",
       "      <th>620</th>\n",
       "      <td>0.129696</td>\n",
       "      <td>0</td>\n",
       "      <td>0</td>\n",
       "      <td>NaN</td>\n",
       "      <td>90</td>\n",
       "      <td>13</td>\n",
       "      <td>5.0</td>\n",
       "      <td>2015</td>\n",
       "      <td>0.000</td>\n",
       "    </tr>\n",
       "    <tr>\n",
       "      <th>997</th>\n",
       "      <td>0.330431</td>\n",
       "      <td>0</td>\n",
       "      <td>0</td>\n",
       "      <td>NaN</td>\n",
       "      <td>44</td>\n",
       "      <td>13</td>\n",
       "      <td>6.8</td>\n",
       "      <td>2014</td>\n",
       "      <td>0.000</td>\n",
       "    </tr>\n",
       "    <tr>\n",
       "      <th>1712</th>\n",
       "      <td>0.302095</td>\n",
       "      <td>0</td>\n",
       "      <td>0</td>\n",
       "      <td>NaN</td>\n",
       "      <td>88</td>\n",
       "      <td>57</td>\n",
       "      <td>7.4</td>\n",
       "      <td>2009</td>\n",
       "      <td>0.000</td>\n",
       "    </tr>\n",
       "    <tr>\n",
       "      <th>1897</th>\n",
       "      <td>0.020701</td>\n",
       "      <td>0</td>\n",
       "      <td>0</td>\n",
       "      <td>NaN</td>\n",
       "      <td>76</td>\n",
       "      <td>11</td>\n",
       "      <td>7.0</td>\n",
       "      <td>2009</td>\n",
       "      <td>0.000</td>\n",
       "    </tr>\n",
       "    <tr>\n",
       "      <th>2370</th>\n",
       "      <td>0.081892</td>\n",
       "      <td>0</td>\n",
       "      <td>0</td>\n",
       "      <td>NaN</td>\n",
       "      <td>0</td>\n",
       "      <td>12</td>\n",
       "      <td>5.8</td>\n",
       "      <td>2010</td>\n",
       "      <td>0.000</td>\n",
       "    </tr>\n",
       "    <tr>\n",
       "      <th>2376</th>\n",
       "      <td>0.068411</td>\n",
       "      <td>0</td>\n",
       "      <td>0</td>\n",
       "      <td>NaN</td>\n",
       "      <td>62</td>\n",
       "      <td>11</td>\n",
       "      <td>7.7</td>\n",
       "      <td>2010</td>\n",
       "      <td>0.000</td>\n",
       "    </tr>\n",
       "    <tr>\n",
       "      <th>2853</th>\n",
       "      <td>0.130018</td>\n",
       "      <td>0</td>\n",
       "      <td>0</td>\n",
       "      <td>NaN</td>\n",
       "      <td>110</td>\n",
       "      <td>12</td>\n",
       "      <td>7.2</td>\n",
       "      <td>2001</td>\n",
       "      <td>0.000</td>\n",
       "    </tr>\n",
       "    <tr>\n",
       "      <th>3279</th>\n",
       "      <td>0.145331</td>\n",
       "      <td>0</td>\n",
       "      <td>0</td>\n",
       "      <td>NaN</td>\n",
       "      <td>96</td>\n",
       "      <td>11</td>\n",
       "      <td>6.1</td>\n",
       "      <td>2008</td>\n",
       "      <td>0.000</td>\n",
       "    </tr>\n",
       "    <tr>\n",
       "      <th>4547</th>\n",
       "      <td>0.520520</td>\n",
       "      <td>0</td>\n",
       "      <td>0</td>\n",
       "      <td>NaN</td>\n",
       "      <td>220</td>\n",
       "      <td>12</td>\n",
       "      <td>8.3</td>\n",
       "      <td>2012</td>\n",
       "      <td>0.000</td>\n",
       "    </tr>\n",
       "    <tr>\n",
       "      <th>4732</th>\n",
       "      <td>0.235911</td>\n",
       "      <td>0</td>\n",
       "      <td>0</td>\n",
       "      <td>NaN</td>\n",
       "      <td>100</td>\n",
       "      <td>12</td>\n",
       "      <td>6.2</td>\n",
       "      <td>2012</td>\n",
       "      <td>0.000</td>\n",
       "    </tr>\n",
       "    <tr>\n",
       "      <th>4797</th>\n",
       "      <td>0.167501</td>\n",
       "      <td>0</td>\n",
       "      <td>0</td>\n",
       "      <td>NaN</td>\n",
       "      <td>60</td>\n",
       "      <td>10</td>\n",
       "      <td>7.8</td>\n",
       "      <td>2012</td>\n",
       "      <td>0.000</td>\n",
       "    </tr>\n",
       "    <tr>\n",
       "      <th>4890</th>\n",
       "      <td>0.083202</td>\n",
       "      <td>0</td>\n",
       "      <td>0</td>\n",
       "      <td>NaN</td>\n",
       "      <td>2</td>\n",
       "      <td>14</td>\n",
       "      <td>7.0</td>\n",
       "      <td>2012</td>\n",
       "      <td>0.000</td>\n",
       "    </tr>\n",
       "    <tr>\n",
       "      <th>5830</th>\n",
       "      <td>0.248944</td>\n",
       "      <td>0</td>\n",
       "      <td>0</td>\n",
       "      <td>NaN</td>\n",
       "      <td>60</td>\n",
       "      <td>26</td>\n",
       "      <td>8.5</td>\n",
       "      <td>2013</td>\n",
       "      <td>0.000</td>\n",
       "    </tr>\n",
       "    <tr>\n",
       "      <th>5934</th>\n",
       "      <td>0.067433</td>\n",
       "      <td>0</td>\n",
       "      <td>0</td>\n",
       "      <td>NaN</td>\n",
       "      <td>3</td>\n",
       "      <td>27</td>\n",
       "      <td>6.9</td>\n",
       "      <td>2013</td>\n",
       "      <td>0.000</td>\n",
       "    </tr>\n",
       "    <tr>\n",
       "      <th>6043</th>\n",
       "      <td>0.039080</td>\n",
       "      <td>0</td>\n",
       "      <td>0</td>\n",
       "      <td>NaN</td>\n",
       "      <td>127</td>\n",
       "      <td>12</td>\n",
       "      <td>5.9</td>\n",
       "      <td>2013</td>\n",
       "      <td>0.000</td>\n",
       "    </tr>\n",
       "    <tr>\n",
       "      <th>6530</th>\n",
       "      <td>0.092724</td>\n",
       "      <td>0</td>\n",
       "      <td>0</td>\n",
       "      <td>NaN</td>\n",
       "      <td>6</td>\n",
       "      <td>24</td>\n",
       "      <td>5.9</td>\n",
       "      <td>2005</td>\n",
       "      <td>0.000</td>\n",
       "    </tr>\n",
       "    <tr>\n",
       "      <th>8234</th>\n",
       "      <td>0.028874</td>\n",
       "      <td>0</td>\n",
       "      <td>0</td>\n",
       "      <td>NaN</td>\n",
       "      <td>103</td>\n",
       "      <td>44</td>\n",
       "      <td>6.7</td>\n",
       "      <td>1995</td>\n",
       "      <td>0.000</td>\n",
       "    </tr>\n",
       "    <tr>\n",
       "      <th>8614</th>\n",
       "      <td>0.273934</td>\n",
       "      <td>0</td>\n",
       "      <td>0</td>\n",
       "      <td>NaN</td>\n",
       "      <td>12</td>\n",
       "      <td>14</td>\n",
       "      <td>6.7</td>\n",
       "      <td>1996</td>\n",
       "      <td>0.000</td>\n",
       "    </tr>\n",
       "    <tr>\n",
       "      <th>8878</th>\n",
       "      <td>0.038045</td>\n",
       "      <td>0</td>\n",
       "      <td>0</td>\n",
       "      <td>NaN</td>\n",
       "      <td>85</td>\n",
       "      <td>16</td>\n",
       "      <td>5.4</td>\n",
       "      <td>2000</td>\n",
       "      <td>0.000</td>\n",
       "    </tr>\n",
       "    <tr>\n",
       "      <th>9307</th>\n",
       "      <td>0.094652</td>\n",
       "      <td>0</td>\n",
       "      <td>0</td>\n",
       "      <td>NaN</td>\n",
       "      <td>105</td>\n",
       "      <td>10</td>\n",
       "      <td>5.3</td>\n",
       "      <td>1989</td>\n",
       "      <td>0.000</td>\n",
       "    </tr>\n",
       "    <tr>\n",
       "      <th>9799</th>\n",
       "      <td>0.175008</td>\n",
       "      <td>0</td>\n",
       "      <td>0</td>\n",
       "      <td>NaN</td>\n",
       "      <td>5</td>\n",
       "      <td>11</td>\n",
       "      <td>5.0</td>\n",
       "      <td>1974</td>\n",
       "      <td>0.000</td>\n",
       "    </tr>\n",
       "    <tr>\n",
       "      <th>10659</th>\n",
       "      <td>0.344172</td>\n",
       "      <td>5000</td>\n",
       "      <td>0</td>\n",
       "      <td>NaN</td>\n",
       "      <td>71</td>\n",
       "      <td>10</td>\n",
       "      <td>3.0</td>\n",
       "      <td>1970</td>\n",
       "      <td>-0.005</td>\n",
       "    </tr>\n",
       "  </tbody>\n",
       "</table>\n",
       "</div>"
      ],
      "text/plain": [
       "       popularity  budget  revenue genres  runtime  vote_count  vote_average  \\\n",
       "424      0.244648       0        0    NaN      100          21           6.1   \n",
       "620      0.129696       0        0    NaN       90          13           5.0   \n",
       "997      0.330431       0        0    NaN       44          13           6.8   \n",
       "1712     0.302095       0        0    NaN       88          57           7.4   \n",
       "1897     0.020701       0        0    NaN       76          11           7.0   \n",
       "2370     0.081892       0        0    NaN        0          12           5.8   \n",
       "2376     0.068411       0        0    NaN       62          11           7.7   \n",
       "2853     0.130018       0        0    NaN      110          12           7.2   \n",
       "3279     0.145331       0        0    NaN       96          11           6.1   \n",
       "4547     0.520520       0        0    NaN      220          12           8.3   \n",
       "4732     0.235911       0        0    NaN      100          12           6.2   \n",
       "4797     0.167501       0        0    NaN       60          10           7.8   \n",
       "4890     0.083202       0        0    NaN        2          14           7.0   \n",
       "5830     0.248944       0        0    NaN       60          26           8.5   \n",
       "5934     0.067433       0        0    NaN        3          27           6.9   \n",
       "6043     0.039080       0        0    NaN      127          12           5.9   \n",
       "6530     0.092724       0        0    NaN        6          24           5.9   \n",
       "8234     0.028874       0        0    NaN      103          44           6.7   \n",
       "8614     0.273934       0        0    NaN       12          14           6.7   \n",
       "8878     0.038045       0        0    NaN       85          16           5.4   \n",
       "9307     0.094652       0        0    NaN      105          10           5.3   \n",
       "9799     0.175008       0        0    NaN        5          11           5.0   \n",
       "10659    0.344172    5000        0    NaN       71          10           3.0   \n",
       "\n",
       "       release_year  profit  \n",
       "424            2015   0.000  \n",
       "620            2015   0.000  \n",
       "997            2014   0.000  \n",
       "1712           2009   0.000  \n",
       "1897           2009   0.000  \n",
       "2370           2010   0.000  \n",
       "2376           2010   0.000  \n",
       "2853           2001   0.000  \n",
       "3279           2008   0.000  \n",
       "4547           2012   0.000  \n",
       "4732           2012   0.000  \n",
       "4797           2012   0.000  \n",
       "4890           2012   0.000  \n",
       "5830           2013   0.000  \n",
       "5934           2013   0.000  \n",
       "6043           2013   0.000  \n",
       "6530           2005   0.000  \n",
       "8234           1995   0.000  \n",
       "8614           1996   0.000  \n",
       "8878           2000   0.000  \n",
       "9307           1989   0.000  \n",
       "9799           1974   0.000  \n",
       "10659          1970  -0.005  "
      ]
     },
     "execution_count": 9,
     "metadata": {},
     "output_type": "execute_result"
    }
   ],
   "source": [
    "df2[df2['genres'].isnull()]"
   ]
  },
  {
   "cell_type": "markdown",
   "metadata": {},
   "source": [
    "From this we definitely see that the genre rows listed here are null. We also see a lot of 0's in the budget and revenue columns. Let's also inspect the min/maxes of the numerical columns."
   ]
  },
  {
   "cell_type": "code",
   "execution_count": 10,
   "metadata": {},
   "outputs": [
    {
     "data": {
      "text/html": [
       "<div>\n",
       "<style scoped>\n",
       "    .dataframe tbody tr th:only-of-type {\n",
       "        vertical-align: middle;\n",
       "    }\n",
       "\n",
       "    .dataframe tbody tr th {\n",
       "        vertical-align: top;\n",
       "    }\n",
       "\n",
       "    .dataframe thead th {\n",
       "        text-align: right;\n",
       "    }\n",
       "</style>\n",
       "<table border=\"1\" class=\"dataframe\">\n",
       "  <thead>\n",
       "    <tr style=\"text-align: right;\">\n",
       "      <th></th>\n",
       "      <th>popularity</th>\n",
       "      <th>budget</th>\n",
       "      <th>revenue</th>\n",
       "      <th>runtime</th>\n",
       "      <th>vote_count</th>\n",
       "      <th>vote_average</th>\n",
       "      <th>release_year</th>\n",
       "      <th>profit</th>\n",
       "    </tr>\n",
       "  </thead>\n",
       "  <tbody>\n",
       "    <tr>\n",
       "      <th>count</th>\n",
       "      <td>10865.000000</td>\n",
       "      <td>1.086500e+04</td>\n",
       "      <td>1.086500e+04</td>\n",
       "      <td>10865.000000</td>\n",
       "      <td>10865.000000</td>\n",
       "      <td>10865.000000</td>\n",
       "      <td>10865.000000</td>\n",
       "      <td>10865.000000</td>\n",
       "    </tr>\n",
       "    <tr>\n",
       "      <th>mean</th>\n",
       "      <td>0.646446</td>\n",
       "      <td>1.462429e+07</td>\n",
       "      <td>3.982690e+07</td>\n",
       "      <td>102.071790</td>\n",
       "      <td>217.399632</td>\n",
       "      <td>5.975012</td>\n",
       "      <td>2001.321859</td>\n",
       "      <td>25.202610</td>\n",
       "    </tr>\n",
       "    <tr>\n",
       "      <th>std</th>\n",
       "      <td>1.000231</td>\n",
       "      <td>3.091428e+07</td>\n",
       "      <td>1.170083e+08</td>\n",
       "      <td>31.382701</td>\n",
       "      <td>575.644627</td>\n",
       "      <td>0.935138</td>\n",
       "      <td>12.813260</td>\n",
       "      <td>96.591030</td>\n",
       "    </tr>\n",
       "    <tr>\n",
       "      <th>min</th>\n",
       "      <td>0.000065</td>\n",
       "      <td>0.000000e+00</td>\n",
       "      <td>0.000000e+00</td>\n",
       "      <td>0.000000</td>\n",
       "      <td>10.000000</td>\n",
       "      <td>1.500000</td>\n",
       "      <td>1960.000000</td>\n",
       "      <td>-413.912431</td>\n",
       "    </tr>\n",
       "    <tr>\n",
       "      <th>25%</th>\n",
       "      <td>0.207575</td>\n",
       "      <td>0.000000e+00</td>\n",
       "      <td>0.000000e+00</td>\n",
       "      <td>90.000000</td>\n",
       "      <td>17.000000</td>\n",
       "      <td>5.400000</td>\n",
       "      <td>1995.000000</td>\n",
       "      <td>0.000000</td>\n",
       "    </tr>\n",
       "    <tr>\n",
       "      <th>50%</th>\n",
       "      <td>0.383831</td>\n",
       "      <td>0.000000e+00</td>\n",
       "      <td>0.000000e+00</td>\n",
       "      <td>99.000000</td>\n",
       "      <td>38.000000</td>\n",
       "      <td>6.000000</td>\n",
       "      <td>2006.000000</td>\n",
       "      <td>0.000000</td>\n",
       "    </tr>\n",
       "    <tr>\n",
       "      <th>75%</th>\n",
       "      <td>0.713857</td>\n",
       "      <td>1.500000e+07</td>\n",
       "      <td>2.400000e+07</td>\n",
       "      <td>111.000000</td>\n",
       "      <td>146.000000</td>\n",
       "      <td>6.600000</td>\n",
       "      <td>2011.000000</td>\n",
       "      <td>9.092453</td>\n",
       "    </tr>\n",
       "    <tr>\n",
       "      <th>max</th>\n",
       "      <td>32.985763</td>\n",
       "      <td>4.250000e+08</td>\n",
       "      <td>2.781506e+09</td>\n",
       "      <td>900.000000</td>\n",
       "      <td>9767.000000</td>\n",
       "      <td>9.200000</td>\n",
       "      <td>2015.000000</td>\n",
       "      <td>2544.505847</td>\n",
       "    </tr>\n",
       "  </tbody>\n",
       "</table>\n",
       "</div>"
      ],
      "text/plain": [
       "         popularity        budget       revenue       runtime    vote_count  \\\n",
       "count  10865.000000  1.086500e+04  1.086500e+04  10865.000000  10865.000000   \n",
       "mean       0.646446  1.462429e+07  3.982690e+07    102.071790    217.399632   \n",
       "std        1.000231  3.091428e+07  1.170083e+08     31.382701    575.644627   \n",
       "min        0.000065  0.000000e+00  0.000000e+00      0.000000     10.000000   \n",
       "25%        0.207575  0.000000e+00  0.000000e+00     90.000000     17.000000   \n",
       "50%        0.383831  0.000000e+00  0.000000e+00     99.000000     38.000000   \n",
       "75%        0.713857  1.500000e+07  2.400000e+07    111.000000    146.000000   \n",
       "max       32.985763  4.250000e+08  2.781506e+09    900.000000   9767.000000   \n",
       "\n",
       "       vote_average  release_year        profit  \n",
       "count  10865.000000  10865.000000  10865.000000  \n",
       "mean       5.975012   2001.321859     25.202610  \n",
       "std        0.935138     12.813260     96.591030  \n",
       "min        1.500000   1960.000000   -413.912431  \n",
       "25%        5.400000   1995.000000      0.000000  \n",
       "50%        6.000000   2006.000000      0.000000  \n",
       "75%        6.600000   2011.000000      9.092453  \n",
       "max        9.200000   2015.000000   2544.505847  "
      ]
     },
     "execution_count": 10,
     "metadata": {},
     "output_type": "execute_result"
    }
   ],
   "source": [
    "df2.describe()"
   ]
  },
  {
   "cell_type": "markdown",
   "metadata": {},
   "source": [
    "From here, we see that the minimum value for budget, revenue, and runtime are 0. Since these values are impossible, it is likely that these 0's represent null values as well. Let's check how many there are for each column."
   ]
  },
  {
   "cell_type": "code",
   "execution_count": 11,
   "metadata": {},
   "outputs": [
    {
     "data": {
      "text/plain": [
       "7011"
      ]
     },
     "execution_count": 11,
     "metadata": {},
     "output_type": "execute_result"
    }
   ],
   "source": [
    "len(df2[(df2['budget'] == 0) | (df2['revenue'] == 0) | (df2['runtime'] == 0)])"
   ]
  },
  {
   "cell_type": "markdown",
   "metadata": {},
   "source": [
    "This means there are 7011 rows where either budget, revenue, or both have a null value. This includes the previous found null values for genres since we saw 0's the revenue or budget or both columns from earlier. For the first and third question, we can't have any 0's in the budget or revenue column. But we don't care about 0's in these columns when we want to examine average rating with year released and runtime. For the run time question we want to make sure there are no 0's in that particular column. We will need to create a few different data frames to serve our purposes.\n",
    "\n",
    "While it is possible to manually locate the genres for the few number of null values we have, but for conveniency we will not. For now, it's better to not drop the null values because research question four and five don't make use of the genre column. Next, we will make a new column that decides if a movie is a classic or not. With a google search, it is the consensus that after 25 years a movie is considered a classic. Since it is early 2018, 25 years would make it 1993, but depending on when it was released it may not be 25 years. So, we will say that a movie is a classic if it was made on 1992 or before."
   ]
  },
  {
   "cell_type": "code",
   "execution_count": 12,
   "metadata": {
    "collapsed": true
   },
   "outputs": [],
   "source": [
    "df3 = df2.copy()\n",
    "df3['classic'] = np.where(df3['release_year'] > 1992, 'no', 'yes')"
   ]
  },
  {
   "cell_type": "markdown",
   "metadata": {},
   "source": [
    "We will save the dataframe for use later in the fourth research question. We also only need the vote_count, vote_average, and classic column to answer our question"
   ]
  },
  {
   "cell_type": "code",
   "execution_count": 13,
   "metadata": {
    "collapsed": true
   },
   "outputs": [],
   "source": [
    "df_4 = df3.copy()\n",
    "df_4 = df_4[['vote_count', 'vote_average', 'classic']]"
   ]
  },
  {
   "cell_type": "markdown",
   "metadata": {},
   "source": [
    "For the fifth question, we will need to address only the 0's in the runtime column. So, we will remove the 0's first."
   ]
  },
  {
   "cell_type": "code",
   "execution_count": 14,
   "metadata": {
    "collapsed": true
   },
   "outputs": [],
   "source": [
    "df3 = df3[df3['runtime'] != 0]"
   ]
  },
  {
   "cell_type": "markdown",
   "metadata": {},
   "source": [
    "Next, we will make a new column to determine if a movie is considered long or not. With just an arbitrary number, we will use the number 110 as the breaking point. Any movie past 110 minutes will be considered long."
   ]
  },
  {
   "cell_type": "code",
   "execution_count": 15,
   "metadata": {
    "collapsed": true
   },
   "outputs": [],
   "source": [
    "df4 = df3.copy()\n",
    "df4['movie_long'] = np.where(df4['runtime'] > 110, 'yes', 'no')"
   ]
  },
  {
   "cell_type": "markdown",
   "metadata": {},
   "source": [
    "We will save the dataframe for use later in the fifth research question. We also only need the vote_count, vote_average, and movie_long to answer our question"
   ]
  },
  {
   "cell_type": "code",
   "execution_count": 16,
   "metadata": {
    "collapsed": true
   },
   "outputs": [],
   "source": [
    "df_5 = df4.copy()\n",
    "df_5 = df_5[['vote_count', 'vote_average', 'movie_long']]"
   ]
  },
  {
   "cell_type": "markdown",
   "metadata": {},
   "source": [
    "For our second question, we only care about the genres and ratings. For the first and third question, we care about the 0's in the budget, revenue, and null values in the genre column. So, first we will remove the null values."
   ]
  },
  {
   "cell_type": "code",
   "execution_count": 17,
   "metadata": {
    "collapsed": true
   },
   "outputs": [],
   "source": [
    "df2 = df2.dropna()"
   ]
  },
  {
   "cell_type": "markdown",
   "metadata": {},
   "source": [
    "Save the dataframe for use in the second research question and subset"
   ]
  },
  {
   "cell_type": "code",
   "execution_count": 18,
   "metadata": {
    "collapsed": true
   },
   "outputs": [],
   "source": [
    "df_2 = df2.copy()\n",
    "df_2 = df_2[['genres', 'vote_count', 'vote_average']]"
   ]
  },
  {
   "cell_type": "markdown",
   "metadata": {},
   "source": [
    "Next, we will remove the 0's in the budget and revenue columns. We also subset the data."
   ]
  },
  {
   "cell_type": "code",
   "execution_count": 19,
   "metadata": {
    "collapsed": true
   },
   "outputs": [],
   "source": [
    "df_clean = df2[(df2['budget'] != 0) & (df2['revenue'] != 0)]\n",
    "\n",
    "df_clean = df_clean[['popularity', 'genres', 'vote_count', 'vote_average', 'profit']]"
   ]
  },
  {
   "cell_type": "markdown",
   "metadata": {},
   "source": [
    "It is important to note that to answer the third question, we need to go through the second question which means the findings may be limited because we exclude 7011 rows of data. Which is why we will compare the dataframe that includes the 7011 rows of data for the second question"
   ]
  },
  {
   "cell_type": "markdown",
   "metadata": {},
   "source": [
    "<a id='eda'></a>\n",
    "## Exploratory Data Analysis\n",
    "\n",
    "### Which genre contributes the most profit?"
   ]
  },
  {
   "cell_type": "markdown",
   "metadata": {},
   "source": [
    "First, I will make the genre column all lower case in case there are typos for upper/lower cases. Afterward, I can select genres without worrying about case sensitivity. "
   ]
  },
  {
   "cell_type": "code",
   "execution_count": 20,
   "metadata": {
    "collapsed": true
   },
   "outputs": [],
   "source": [
    "#Make genre column lowercase\n",
    "df_clean2 = df_clean.copy()\n",
    "df_clean2['genres'] = df_clean2['genres'].apply(lambda x: x.lower() )"
   ]
  },
  {
   "cell_type": "markdown",
   "metadata": {},
   "source": [
    "Next, I will subset the data so that it only includes movies that include the genre action so that we can examine movies tagged only with action to find the profits for action."
   ]
  },
  {
   "cell_type": "code",
   "execution_count": 21,
   "metadata": {
    "collapsed": true
   },
   "outputs": [],
   "source": [
    "is_action = df_clean2[df_clean2['genres'].str.contains('action')]"
   ]
  },
  {
   "cell_type": "markdown",
   "metadata": {},
   "source": [
    "Next, I will sum up the profit column so that it represents how much profit was made under that genre tag"
   ]
  },
  {
   "cell_type": "code",
   "execution_count": 22,
   "metadata": {},
   "outputs": [
    {
     "data": {
      "text/plain": [
       "108648.33465400014"
      ]
     },
     "execution_count": 22,
     "metadata": {},
     "output_type": "execute_result"
    }
   ],
   "source": [
    "sum(is_action['profit'])"
   ]
  },
  {
   "cell_type": "markdown",
   "metadata": {},
   "source": [
    "This value means that the profit for the action genre overall is 108648.33465400014*1000000 dollars. I will create a list of tags that includes all the genres and pair it with the resulting profits. I don't include the TV movie genre since it's not really a typically used genre."
   ]
  },
  {
   "cell_type": "code",
   "execution_count": 23,
   "metadata": {
    "collapsed": true
   },
   "outputs": [],
   "source": [
    "genre_tags = ['action', 'adventure', 'animation', 'comedy', 'crime', 'documentary', 'drama', 'family', 'fantasy', 'history',\n",
    "              'horror', 'music', 'mystery', 'romance', 'science fiction', 'thriller', 'war', 'western']"
   ]
  },
  {
   "cell_type": "markdown",
   "metadata": {},
   "source": [
    "I will define the following with just action and gradually append values"
   ]
  },
  {
   "cell_type": "code",
   "execution_count": 24,
   "metadata": {
    "collapsed": true
   },
   "outputs": [],
   "source": [
    "genre_profit = [108648.33465400014]"
   ]
  },
  {
   "cell_type": "markdown",
   "metadata": {},
   "source": [
    "I'll create a function to reduce tedious work"
   ]
  },
  {
   "cell_type": "code",
   "execution_count": 25,
   "metadata": {
    "collapsed": true
   },
   "outputs": [],
   "source": [
    "def total_profit(genre):\n",
    "    \"\"\"Find total_profit for specified genre and append to genre_profit\"\"\"\n",
    "    \n",
    "    is_genre = df_clean2[df_clean2['genres'].str.contains(genre)]\n",
    "    total_profit = sum(is_genre['profit'])\n",
    "    genre_profit.append(total_profit)"
   ]
  },
  {
   "cell_type": "markdown",
   "metadata": {},
   "source": [
    "Apply function to find remaining profits for the genres"
   ]
  },
  {
   "cell_type": "code",
   "execution_count": 26,
   "metadata": {
    "collapsed": true
   },
   "outputs": [],
   "source": [
    "total_profit('adventure')\n",
    "total_profit('animation')\n",
    "total_profit('comedy')\n",
    "total_profit('crime')\n",
    "total_profit('documentary')\n",
    "total_profit('drama')\n",
    "total_profit('family')\n",
    "total_profit('fantasy')\n",
    "total_profit('history')\n",
    "total_profit('horror')\n",
    "total_profit('music')\n",
    "total_profit('mystery')\n",
    "total_profit('romance')\n",
    "total_profit('science fiction')\n",
    "total_profit('thriller')\n",
    "total_profit('war')\n",
    "total_profit('western')"
   ]
  },
  {
   "cell_type": "markdown",
   "metadata": {},
   "source": [
    "I will create a new dataframe with the paired data so that we can easily see which profit value corresponds to which genre."
   ]
  },
  {
   "cell_type": "code",
   "execution_count": 27,
   "metadata": {
    "collapsed": true
   },
   "outputs": [],
   "source": [
    "list_labels = ['genre', 'profit']\n",
    "list_cols = [genre_tags, genre_profit]\n",
    "zipped = list(zip(list_labels, list_cols))\n",
    "data = dict(zipped)\n",
    "result = pd.DataFrame(data)"
   ]
  },
  {
   "cell_type": "markdown",
   "metadata": {},
   "source": [
    "Sort by descending to see what has the highest profit more easily."
   ]
  },
  {
   "cell_type": "code",
   "execution_count": 28,
   "metadata": {},
   "outputs": [
    {
     "name": "stdout",
     "output_type": "stream",
     "text": [
      "              genre         profit\n",
      "1         adventure  111116.350289\n",
      "0            action  108648.334654\n",
      "3            comedy   87220.956730\n",
      "6             drama   81258.694274\n",
      "15         thriller   72776.818635\n",
      "7            family   59786.616231\n",
      "8           fantasy   58416.626181\n",
      "14  science fiction   56024.135646\n",
      "13          romance   39001.273098\n",
      "2         animation   36217.190531\n",
      "4             crime   33270.885699\n",
      "12          mystery   19257.823544\n",
      "10           horror   17928.052307\n",
      "11            music    7736.431872\n",
      "16              war    7589.371329\n",
      "9           history    5250.302652\n",
      "17          western    1798.057858\n",
      "5       documentary     618.499852\n"
     ]
    }
   ],
   "source": [
    "print(result.sort_values('profit', ascending = False))"
   ]
  },
  {
   "cell_type": "markdown",
   "metadata": {},
   "source": [
    "Since Adventure is at the top, we conclude that Adventure is the genre that contributes the most profit. It was a fairly close race with Action."
   ]
  },
  {
   "cell_type": "markdown",
   "metadata": {},
   "source": [
    "### Which genres paired with Adventure drives the average rating upward?"
   ]
  },
  {
   "cell_type": "markdown",
   "metadata": {},
   "source": [
    "First, we need to find the average rating for the adventure genre overall so that we have something to compare each pair to."
   ]
  },
  {
   "cell_type": "code",
   "execution_count": 29,
   "metadata": {
    "collapsed": true
   },
   "outputs": [],
   "source": [
    "#Subset data into adventure genre data\n",
    "is_adventure = df_clean2[df_clean2['genres'].str.contains('adventure')]"
   ]
  },
  {
   "cell_type": "markdown",
   "metadata": {},
   "source": [
    "Next, use the vote_average and vote_count columns to create an overall average rating"
   ]
  },
  {
   "cell_type": "code",
   "execution_count": 30,
   "metadata": {
    "scrolled": true
   },
   "outputs": [
    {
     "name": "stdout",
     "output_type": "stream",
     "text": [
      "6.66448921068209\n"
     ]
    }
   ],
   "source": [
    "average = sum(is_adventure['vote_count'] * is_adventure['vote_average']) / sum(is_adventure['vote_count'])\n",
    "print(average)"
   ]
  },
  {
   "cell_type": "markdown",
   "metadata": {},
   "source": [
    "So, this means that the average rating for the Adventure genre in the clean dataset is 6.66448921068209.\n",
    "\n",
    "Let's check the same thing for the full dataset after lower casing the genres as we did in the previous question for clean data so that we can verify that the properties of the dataset are the same."
   ]
  },
  {
   "cell_type": "code",
   "execution_count": 31,
   "metadata": {},
   "outputs": [
    {
     "name": "stdout",
     "output_type": "stream",
     "text": [
      "6.632753273353302\n"
     ]
    }
   ],
   "source": [
    "df_full = df_2.copy()\n",
    "df_full['genres'] = df_full['genres'].apply(lambda x: x.lower() )\n",
    "is_adventure_unclean = df_full[df_full['genres'].str.contains('adventure')]\n",
    "average = sum(is_adventure_unclean['vote_count'] * is_adventure_unclean['vote_average']) / sum(is_adventure_unclean['vote_count'])\n",
    "print(average)"
   ]
  },
  {
   "cell_type": "markdown",
   "metadata": {},
   "source": [
    "We see that this average rating turned out to be a tiny bit lower than the clean data which we should still be able to accurately answer the remaining research questions with the clean data. Next, we only need to be worried about which pairs are more influential than others and if they have the same pair distribution.\n",
    "\n",
    "Next, we need to examine each genre pair with Adventure in it for its average rating to find the highest contributing pairs within the clean data set. We will repeat the same steps in the previous question to create a new dataframe with aggregated data. Since the next research question requires more data, I will also include other pieces of information in the clean aggregated dataframe"
   ]
  },
  {
   "cell_type": "code",
   "execution_count": 32,
   "metadata": {},
   "outputs": [
    {
     "data": {
      "text/plain": [
       "6.63031564941504"
      ]
     },
     "execution_count": 32,
     "metadata": {},
     "output_type": "execute_result"
    }
   ],
   "source": [
    "#Subset adventure data into action adventure data\n",
    "pair_action = is_adventure[is_adventure['genres'].str.contains('action')]\n",
    "\n",
    "#Find average rating\n",
    "sum(pair_action['vote_count'] * pair_action['vote_average']) / sum(pair_action['vote_count'])"
   ]
  },
  {
   "cell_type": "markdown",
   "metadata": {},
   "source": [
    "We see that this value is a little bit lower than the adventure genre overall. This means that adventure action movies are bringing the overall adventure average ratings down."
   ]
  },
  {
   "cell_type": "markdown",
   "metadata": {},
   "source": [
    "Next, we check for popularity, the other aggregated data"
   ]
  },
  {
   "cell_type": "code",
   "execution_count": 33,
   "metadata": {},
   "outputs": [
    {
     "data": {
      "text/plain": [
       "1.8676930360480621"
      ]
     },
     "execution_count": 33,
     "metadata": {},
     "output_type": "execute_result"
    }
   ],
   "source": [
    "#Average popularity overall for adventure\n",
    "sum(is_adventure['popularity'])/len(is_adventure)"
   ]
  },
  {
   "cell_type": "markdown",
   "metadata": {},
   "source": [
    "The meaning of popularity is unclear in the dataset, but the average popularity for the adventure genre overall is 1.8676930360480621. Next, we will create the genre_pair tags and the lists to append to. Note that the profit overall is still 111116.350289 because that's the value of profit for adventure overall."
   ]
  },
  {
   "cell_type": "code",
   "execution_count": 34,
   "metadata": {
    "collapsed": true
   },
   "outputs": [],
   "source": [
    "genre_pairs_clean = ['overall', 'action', 'animation', 'comedy', 'crime', 'documentary', 'drama', 'family', 'fantasy', 'history',\n",
    "                     'horror', 'music', 'mystery', 'romance', 'science fiction', 'thriller', 'war', 'western']\n",
    "pair_rating_clean = [6.66448921068209]\n",
    "pair_popularity_clean = [1.8676930360480621]\n",
    "pair_profit_clean = [111116.350289]"
   ]
  },
  {
   "cell_type": "markdown",
   "metadata": {},
   "source": [
    "Next, create a function to reduce tedious work"
   ]
  },
  {
   "cell_type": "code",
   "execution_count": 35,
   "metadata": {
    "collapsed": true
   },
   "outputs": [],
   "source": [
    "def pair_agg(genres):\n",
    "    \"\"\"Find average rating, average popularity, and profit for genre pairs with \n",
    "     adventure in clean data and then append to list\"\"\"\n",
    "    \n",
    "    for genre in genres:\n",
    "          \n",
    "        pair_genre = is_adventure[is_adventure['genres'].str.contains(genre)]\n",
    "        \n",
    "        if sum(pair_genre['vote_count']) != 0:\n",
    "            \n",
    "            average = sum(pair_genre['vote_count'] * pair_genre['vote_average']) / sum(pair_genre['vote_count'])\n",
    "            pair_rating_clean.append(average)\n",
    "        \n",
    "            pair_popularity = sum(pair_genre['popularity'])/len(pair_genre)\n",
    "            pair_popularity_clean.append(pair_popularity)\n",
    "        \n",
    "            pair_profit = sum(pair_genre['profit'])\n",
    "            pair_profit_clean.append(pair_profit)\n",
    "            \n",
    "        else:\n",
    "            \n",
    "            pair_rating_clean.append(0)\n",
    "            pair_popularity_clean.append(0)\n",
    "            pair_profit_clean.append(0)"
   ]
  },
  {
   "cell_type": "code",
   "execution_count": 36,
   "metadata": {
    "collapsed": true
   },
   "outputs": [],
   "source": [
    "pair_agg(['action', 'animation', 'comedy', 'crime', 'documentary', 'drama', 'family', 'fantasy', 'history',\n",
    "                     'horror', 'music', 'mystery', 'romance', 'science fiction', 'thriller', 'war', 'western'])"
   ]
  },
  {
   "cell_type": "markdown",
   "metadata": {},
   "source": [
    "Next, create a dataframe with the aggregated data using the clean data to easily view which pair corresponds to what average rating."
   ]
  },
  {
   "cell_type": "code",
   "execution_count": 37,
   "metadata": {
    "collapsed": true
   },
   "outputs": [],
   "source": [
    "list_labels = ['genre_pairs', 'average_rating', 'popularity', 'profit']\n",
    "list_cols = [genre_pairs_clean, pair_rating_clean, pair_popularity_clean, pair_profit_clean]\n",
    "zipped = list(zip(list_labels, list_cols))\n",
    "data = dict(zipped)\n",
    "clean = pd.DataFrame(data)"
   ]
  },
  {
   "cell_type": "markdown",
   "metadata": {},
   "source": [
    "Next, we will do all the same steps with the unclean data minus the popularity and profit aggregates so we can compare the distribution of the reduced dataset versus the full dataset"
   ]
  },
  {
   "cell_type": "code",
   "execution_count": 38,
   "metadata": {
    "collapsed": true
   },
   "outputs": [],
   "source": [
    "def pair_rating(genres):\n",
    "    \"\"\"Find average rating for genre pairs with adventure in unclean data and then append to list\"\"\"\n",
    "    \n",
    "    for genre in genres:\n",
    "        \n",
    "        pair_genre = is_adventure_unclean[is_adventure_unclean['genres'].str.contains(genre)]\n",
    "        average = sum(pair_genre['vote_count'] * pair_genre['vote_average']) / sum(pair_genre['vote_count'])\n",
    "        pair_rating_unclean.append(average)"
   ]
  },
  {
   "cell_type": "markdown",
   "metadata": {},
   "source": [
    "We have 6.63275327335 for the overall since that's the average rating value we found for adventure earlier."
   ]
  },
  {
   "cell_type": "code",
   "execution_count": 39,
   "metadata": {
    "collapsed": true
   },
   "outputs": [],
   "source": [
    "genre_pairs_unclean = ['overall', 'action', 'animation', 'comedy', 'crime', 'documentary', 'drama', 'family', 'fantasy', 'history',\n",
    "                     'horror', 'music', 'mystery', 'romance', 'science fiction', 'thriller', 'war', 'western']\n",
    "pair_rating_unclean = [6.63275327335]"
   ]
  },
  {
   "cell_type": "code",
   "execution_count": 40,
   "metadata": {
    "collapsed": true
   },
   "outputs": [],
   "source": [
    "pair_rating(['action', 'animation', 'comedy', 'crime', 'documentary', 'drama', 'family', 'fantasy', 'history',\n",
    "                     'horror', 'music', 'mystery', 'romance', 'science fiction', 'thriller', 'war', 'western'])"
   ]
  },
  {
   "cell_type": "code",
   "execution_count": 41,
   "metadata": {
    "collapsed": true
   },
   "outputs": [],
   "source": [
    "list_labels = ['genre_pairs', 'average_rating']\n",
    "list_cols = [genre_pairs_unclean, pair_rating_unclean]\n",
    "zipped = list(zip(list_labels, list_cols))\n",
    "data = dict(zipped)\n",
    "unclean = pd.DataFrame(data)"
   ]
  },
  {
   "cell_type": "markdown",
   "metadata": {},
   "source": [
    "Display both the tables, descending by average rating"
   ]
  },
  {
   "cell_type": "code",
   "execution_count": 42,
   "metadata": {},
   "outputs": [
    {
     "name": "stdout",
     "output_type": "stream",
     "text": [
      "    average_rating      genre_pairs  popularity         profit\n",
      "12        6.880013          mystery    2.020926    3898.999141\n",
      "2         6.793655        animation    1.880993   18409.523381\n",
      "14        6.724631  science fiction    2.594542   41080.733464\n",
      "7         6.723904           family    1.743360   33828.848520\n",
      "8         6.689617          fantasy    2.240361   42456.129696\n",
      "17        6.687889          western    1.410718    1082.360588\n",
      "6         6.684653            drama    1.279140   12429.374046\n",
      "16        6.671811              war    1.014174    1978.084933\n",
      "0         6.664489          overall    1.867693  111116.350289\n",
      "1         6.630316           action    1.904787   67925.464436\n",
      "11        6.570254            music    0.623528     227.703350\n",
      "3         6.549176           comedy    1.436190   24849.636310\n",
      "9         6.436898          history    0.865137     248.911824\n",
      "15        6.432406         thriller    1.863227   22842.000609\n",
      "4         6.385134            crime    1.166821    4639.884107\n",
      "13        6.181374          romance    1.082045    5174.090608\n",
      "10        6.005576           horror    1.157087    1807.316142\n",
      "5         0.000000      documentary    0.000000       0.000000\n",
      "          \n",
      "    average_rating      genre_pairs\n",
      "5         7.384755      documentary\n",
      "12        6.847765          mystery\n",
      "2         6.756020        animation\n",
      "14        6.708255  science fiction\n",
      "7         6.674416           family\n",
      "16        6.671570              war\n",
      "8         6.662559          fantasy\n",
      "17        6.648654          western\n",
      "6         6.645314            drama\n",
      "0         6.632753          overall\n",
      "1         6.602822           action\n",
      "11        6.538594            music\n",
      "3         6.496921           comedy\n",
      "9         6.431762          history\n",
      "15        6.407806         thriller\n",
      "4         6.363546            crime\n",
      "13        6.151721          romance\n",
      "10        5.960878           horror\n"
     ]
    }
   ],
   "source": [
    "#Clean data\n",
    "print(clean.sort_values('average_rating', ascending = False))\n",
    "\n",
    "#White space\n",
    "print(\"          \")\n",
    "\n",
    "#Unclean data\n",
    "print(unclean.sort_values('average_rating', ascending = False))"
   ]
  },
  {
   "cell_type": "markdown",
   "metadata": {},
   "source": [
    "To better visualize the distribution similarities/differences of these two dataframes, we will create a grouped bar graph. First, we need to create similar dataframes with common columns."
   ]
  },
  {
   "cell_type": "code",
   "execution_count": 43,
   "metadata": {
    "collapsed": true
   },
   "outputs": [],
   "source": [
    "clean2 = clean.loc[:,['average_rating', 'genre_pairs']]"
   ]
  },
  {
   "cell_type": "markdown",
   "metadata": {},
   "source": [
    "Now we add another column to signify what group they are in. This is important when we concanenate the dataframes row-wise so we can keep track of what dataframe they came from"
   ]
  },
  {
   "cell_type": "code",
   "execution_count": 44,
   "metadata": {
    "collapsed": true
   },
   "outputs": [],
   "source": [
    "clean2['Group'] = 'Clean'\n",
    "unclean['Group'] = 'Unclean'"
   ]
  },
  {
   "cell_type": "markdown",
   "metadata": {},
   "source": [
    "Next, we create the new dataframe using concat\n"
   ]
  },
  {
   "cell_type": "code",
   "execution_count": 45,
   "metadata": {
    "collapsed": true
   },
   "outputs": [],
   "source": [
    "concat_df = pd.concat([clean2, unclean])"
   ]
  },
  {
   "cell_type": "markdown",
   "metadata": {},
   "source": [
    "We use ggplot from plotnine to create the graph. A horizontal line is added at 6.64 to better visualize which genres are bringing the overall adventure rating up. We see under the clean data there is a 6.63 value which is bringing the overall 6.66 down. We see under the unclean data the overall is around 6.63, so we use 6.64 so that we don't include the 6.63 non-significant value in the clean data while still having the same significances above the overall rating. I've included a more precise y limit to help see which pairs are more impactful."
   ]
  },
  {
   "cell_type": "code",
   "execution_count": 46,
   "metadata": {},
   "outputs": [
    {
     "data": {
      "image/png": "[encoded data removed]",
      "text/plain": [
       "<matplotlib.figure.Figure at 0x1e68f438>"
      ]
     },
     "metadata": {},
     "output_type": "display_data"
    },
    {
     "data": {
      "text/plain": [
       "<ggplot: (-9223372036823047669)>"
      ]
     },
     "execution_count": 46,
     "metadata": {},
     "output_type": "execute_result"
    }
   ],
   "source": [
    "ggplot(concat_df, aes(x = 'genre_pairs', y = 'average_rating', fill = 'Group')) + \\\n",
    "geom_bar(stat = \"identity\", position = position_dodge()) + \\\n",
    "theme(axis_text = element_text(size = 10, angle = 45, hjust = 1)) + \\\n",
    "xlab('Genre Pairs with Adventure') + \\\n",
    "ylab('Average Rating') + \\\n",
    "ggtitle('Average Rating For Adventure pairs with Other Genres') + \\\n",
    "coord_cartesian(ylim=np.array([5.7,7.6])) + \\\n",
    "geom_hline(yintercept=6.64)"
   ]
  },
  {
   "cell_type": "markdown",
   "metadata": {},
   "source": [
    "For our clean data set we see that animation, drama, family, fantasy, mystery, science fiction, war, and western when paired with adventure drive the overall adventure rating upward since those genres are higher than the overall.\n",
    "\n",
    "We see under the unclean data set we see animation, documentary, drama, family, fantasy, mystery, science fiction, war, and western bring the adventure rating up which is very similar to the clean data. They differ slightly in magnitude but overall they are the same distributions. It's important to note that there were no adventure-documentaries in the clean data which caused that pair to have a 0 value.\n",
    "\n",
    "To answer the original question, animation, documentary, drama, family, fantasy, mystery, science fiction, war, and western are the genres when paired with adventure drives the overall adventure average rating upward.\n",
    "\n",
    "Going forward to the third question, we use the data from the clean data but see that most of the distributions are similar, so results and conclusions from the third question should still be fairly valid.\n"
   ]
  },
  {
   "cell_type": "markdown",
   "metadata": {},
   "source": [
    "### Are higher rated pairs with the action-adventure genre correlated with higher popularity or higher profit?"
   ]
  },
  {
   "cell_type": "markdown",
   "metadata": {},
   "source": [
    "Create a scatter plot since it is the best type of plot to check for correlation visually"
   ]
  },
  {
   "cell_type": "code",
   "execution_count": 47,
   "metadata": {},
   "outputs": [
    {
     "data": {
      "text/plain": [
       "Text(0.5,1,'Adventure Genre Pairs Average Rating versus Popularity')"
      ]
     },
     "execution_count": 47,
     "metadata": {},
     "output_type": "execute_result"
    },
    {
     "data": {
      "image/png": "[encoded data removed]",
      "text/plain": [
       "<matplotlib.figure.Figure at 0x1e3f7dd8>"
      ]
     },
     "metadata": {},
     "output_type": "display_data"
    }
   ],
   "source": [
    "plt.scatter(clean['average_rating'], clean['popularity'])\n",
    "plt.xlabel('Average Rating')\n",
    "plt.ylabel('Popularity')\n",
    "plt.title('Adventure Genre Pairs Average Rating versus Popularity')"
   ]
  },
  {
   "cell_type": "markdown",
   "metadata": {},
   "source": [
    "Here we see some type of positive correlation between Average Rating and Popularity, but that is only because of the Documentary-Adventure pair with 0 observations in it. For our purposes, it is much better for us to remove this point. The distribution of the rest of the points are about the same as seen in the previous question. Also note that one of the points is also our overall point for adventure. We do not need that point for this analysis since it is comparing Adventure-Genre pairs specifically."
   ]
  },
  {
   "cell_type": "code",
   "execution_count": 48,
   "metadata": {},
   "outputs": [
    {
     "data": {
      "text/html": [
       "<div>\n",
       "<style scoped>\n",
       "    .dataframe tbody tr th:only-of-type {\n",
       "        vertical-align: middle;\n",
       "    }\n",
       "\n",
       "    .dataframe tbody tr th {\n",
       "        vertical-align: top;\n",
       "    }\n",
       "\n",
       "    .dataframe thead th {\n",
       "        text-align: right;\n",
       "    }\n",
       "</style>\n",
       "<table border=\"1\" class=\"dataframe\">\n",
       "  <thead>\n",
       "    <tr style=\"text-align: right;\">\n",
       "      <th></th>\n",
       "      <th>average_rating</th>\n",
       "      <th>genre_pairs</th>\n",
       "      <th>popularity</th>\n",
       "      <th>profit</th>\n",
       "    </tr>\n",
       "  </thead>\n",
       "  <tbody>\n",
       "    <tr>\n",
       "      <th>0</th>\n",
       "      <td>6.664489</td>\n",
       "      <td>overall</td>\n",
       "      <td>1.867693</td>\n",
       "      <td>111116.350289</td>\n",
       "    </tr>\n",
       "    <tr>\n",
       "      <th>1</th>\n",
       "      <td>6.630316</td>\n",
       "      <td>action</td>\n",
       "      <td>1.904787</td>\n",
       "      <td>67925.464436</td>\n",
       "    </tr>\n",
       "    <tr>\n",
       "      <th>2</th>\n",
       "      <td>6.793655</td>\n",
       "      <td>animation</td>\n",
       "      <td>1.880993</td>\n",
       "      <td>18409.523381</td>\n",
       "    </tr>\n",
       "    <tr>\n",
       "      <th>3</th>\n",
       "      <td>6.549176</td>\n",
       "      <td>comedy</td>\n",
       "      <td>1.436190</td>\n",
       "      <td>24849.636310</td>\n",
       "    </tr>\n",
       "    <tr>\n",
       "      <th>4</th>\n",
       "      <td>6.385134</td>\n",
       "      <td>crime</td>\n",
       "      <td>1.166821</td>\n",
       "      <td>4639.884107</td>\n",
       "    </tr>\n",
       "    <tr>\n",
       "      <th>5</th>\n",
       "      <td>0.000000</td>\n",
       "      <td>documentary</td>\n",
       "      <td>0.000000</td>\n",
       "      <td>0.000000</td>\n",
       "    </tr>\n",
       "    <tr>\n",
       "      <th>6</th>\n",
       "      <td>6.684653</td>\n",
       "      <td>drama</td>\n",
       "      <td>1.279140</td>\n",
       "      <td>12429.374046</td>\n",
       "    </tr>\n",
       "    <tr>\n",
       "      <th>7</th>\n",
       "      <td>6.723904</td>\n",
       "      <td>family</td>\n",
       "      <td>1.743360</td>\n",
       "      <td>33828.848520</td>\n",
       "    </tr>\n",
       "    <tr>\n",
       "      <th>8</th>\n",
       "      <td>6.689617</td>\n",
       "      <td>fantasy</td>\n",
       "      <td>2.240361</td>\n",
       "      <td>42456.129696</td>\n",
       "    </tr>\n",
       "    <tr>\n",
       "      <th>9</th>\n",
       "      <td>6.436898</td>\n",
       "      <td>history</td>\n",
       "      <td>0.865137</td>\n",
       "      <td>248.911824</td>\n",
       "    </tr>\n",
       "    <tr>\n",
       "      <th>10</th>\n",
       "      <td>6.005576</td>\n",
       "      <td>horror</td>\n",
       "      <td>1.157087</td>\n",
       "      <td>1807.316142</td>\n",
       "    </tr>\n",
       "    <tr>\n",
       "      <th>11</th>\n",
       "      <td>6.570254</td>\n",
       "      <td>music</td>\n",
       "      <td>0.623528</td>\n",
       "      <td>227.703350</td>\n",
       "    </tr>\n",
       "    <tr>\n",
       "      <th>12</th>\n",
       "      <td>6.880013</td>\n",
       "      <td>mystery</td>\n",
       "      <td>2.020926</td>\n",
       "      <td>3898.999141</td>\n",
       "    </tr>\n",
       "    <tr>\n",
       "      <th>13</th>\n",
       "      <td>6.181374</td>\n",
       "      <td>romance</td>\n",
       "      <td>1.082045</td>\n",
       "      <td>5174.090608</td>\n",
       "    </tr>\n",
       "    <tr>\n",
       "      <th>14</th>\n",
       "      <td>6.724631</td>\n",
       "      <td>science fiction</td>\n",
       "      <td>2.594542</td>\n",
       "      <td>41080.733464</td>\n",
       "    </tr>\n",
       "    <tr>\n",
       "      <th>15</th>\n",
       "      <td>6.432406</td>\n",
       "      <td>thriller</td>\n",
       "      <td>1.863227</td>\n",
       "      <td>22842.000609</td>\n",
       "    </tr>\n",
       "    <tr>\n",
       "      <th>16</th>\n",
       "      <td>6.671811</td>\n",
       "      <td>war</td>\n",
       "      <td>1.014174</td>\n",
       "      <td>1978.084933</td>\n",
       "    </tr>\n",
       "    <tr>\n",
       "      <th>17</th>\n",
       "      <td>6.687889</td>\n",
       "      <td>western</td>\n",
       "      <td>1.410718</td>\n",
       "      <td>1082.360588</td>\n",
       "    </tr>\n",
       "  </tbody>\n",
       "</table>\n",
       "</div>"
      ],
      "text/plain": [
       "    average_rating      genre_pairs  popularity         profit\n",
       "0         6.664489          overall    1.867693  111116.350289\n",
       "1         6.630316           action    1.904787   67925.464436\n",
       "2         6.793655        animation    1.880993   18409.523381\n",
       "3         6.549176           comedy    1.436190   24849.636310\n",
       "4         6.385134            crime    1.166821    4639.884107\n",
       "5         0.000000      documentary    0.000000       0.000000\n",
       "6         6.684653            drama    1.279140   12429.374046\n",
       "7         6.723904           family    1.743360   33828.848520\n",
       "8         6.689617          fantasy    2.240361   42456.129696\n",
       "9         6.436898          history    0.865137     248.911824\n",
       "10        6.005576           horror    1.157087    1807.316142\n",
       "11        6.570254            music    0.623528     227.703350\n",
       "12        6.880013          mystery    2.020926    3898.999141\n",
       "13        6.181374          romance    1.082045    5174.090608\n",
       "14        6.724631  science fiction    2.594542   41080.733464\n",
       "15        6.432406         thriller    1.863227   22842.000609\n",
       "16        6.671811              war    1.014174    1978.084933\n",
       "17        6.687889          western    1.410718    1082.360588"
      ]
     },
     "execution_count": 48,
     "metadata": {},
     "output_type": "execute_result"
    }
   ],
   "source": [
    "#Find the row indexes to remove\n",
    "clean"
   ]
  },
  {
   "cell_type": "code",
   "execution_count": 49,
   "metadata": {},
   "outputs": [],
   "source": [
    "#Remove the documentary row\n",
    "clean = clean.drop([0,5])"
   ]
  },
  {
   "cell_type": "markdown",
   "metadata": {},
   "source": [
    "Now, we will create the same scatter plot with the documentary observation removed."
   ]
  },
  {
   "cell_type": "code",
   "execution_count": 50,
   "metadata": {},
   "outputs": [
    {
     "data": {
      "text/plain": [
       "Text(0.5,1,'Adventure Genre Pairs Average Rating versus Popularity')"
      ]
     },
     "execution_count": 50,
     "metadata": {},
     "output_type": "execute_result"
    },
    {
     "data": {
      "image/png": "[encoded data removed]",
      "text/plain": [
       "<matplotlib.figure.Figure at 0x1e3f79e8>"
      ]
     },
     "metadata": {},
     "output_type": "display_data"
    }
   ],
   "source": [
    "plt.scatter(clean['average_rating'], clean['popularity'])\n",
    "plt.xlabel('Average Rating')\n",
    "plt.ylabel('Popularity')\n",
    "plt.title('Adventure Genre Pairs Average Rating versus Popularity')"
   ]
  },
  {
   "cell_type": "markdown",
   "metadata": {},
   "source": [
    "Here, we see a clear positive correlation between Average Rating and Popularity. The relationship appears to be linear.\n",
    "\n",
    "We will create the same scatter plot for Average Rating and Profit"
   ]
  },
  {
   "cell_type": "code",
   "execution_count": 51,
   "metadata": {},
   "outputs": [
    {
     "data": {
      "text/plain": [
       "Text(0.5,1,'Adventure Genre Pairs Average Rating versus Profit')"
      ]
     },
     "execution_count": 51,
     "metadata": {},
     "output_type": "execute_result"
    },
    {
     "data": {
      "image/png": "[encoded data removed]",
      "text/plain": [
       "<matplotlib.figure.Figure at 0x2004e080>"
      ]
     },
     "metadata": {},
     "output_type": "display_data"
    }
   ],
   "source": [
    "plt.scatter(clean['average_rating'], clean['profit'])\n",
    "plt.xlabel('Average Rating')\n",
    "plt.ylabel('Profit (in millions of dollars)')\n",
    "plt.title('Adventure Genre Pairs Average Rating versus Profit')"
   ]
  },
  {
   "cell_type": "markdown",
   "metadata": {},
   "source": [
    "We see a weak positive correlation here. The relationship does not appear to be linear.\n",
    "\n",
    "We can verify with a correlation matrix for both of our scatter plots"
   ]
  },
  {
   "cell_type": "code",
   "execution_count": 52,
   "metadata": {},
   "outputs": [
    {
     "data": {
      "text/html": [
       "<div>\n",
       "<style scoped>\n",
       "    .dataframe tbody tr th:only-of-type {\n",
       "        vertical-align: middle;\n",
       "    }\n",
       "\n",
       "    .dataframe tbody tr th {\n",
       "        vertical-align: top;\n",
       "    }\n",
       "\n",
       "    .dataframe thead th {\n",
       "        text-align: right;\n",
       "    }\n",
       "</style>\n",
       "<table border=\"1\" class=\"dataframe\">\n",
       "  <thead>\n",
       "    <tr style=\"text-align: right;\">\n",
       "      <th></th>\n",
       "      <th>average_rating</th>\n",
       "      <th>popularity</th>\n",
       "      <th>profit</th>\n",
       "    </tr>\n",
       "  </thead>\n",
       "  <tbody>\n",
       "    <tr>\n",
       "      <th>average_rating</th>\n",
       "      <td>1.000000</td>\n",
       "      <td>0.502835</td>\n",
       "      <td>0.313879</td>\n",
       "    </tr>\n",
       "    <tr>\n",
       "      <th>popularity</th>\n",
       "      <td>0.502835</td>\n",
       "      <td>1.000000</td>\n",
       "      <td>0.708146</td>\n",
       "    </tr>\n",
       "    <tr>\n",
       "      <th>profit</th>\n",
       "      <td>0.313879</td>\n",
       "      <td>0.708146</td>\n",
       "      <td>1.000000</td>\n",
       "    </tr>\n",
       "  </tbody>\n",
       "</table>\n",
       "</div>"
      ],
      "text/plain": [
       "                average_rating  popularity    profit\n",
       "average_rating        1.000000    0.502835  0.313879\n",
       "popularity            0.502835    1.000000  0.708146\n",
       "profit                0.313879    0.708146  1.000000"
      ]
     },
     "execution_count": 52,
     "metadata": {},
     "output_type": "execute_result"
    }
   ],
   "source": [
    "clean.corr()"
   ]
  },
  {
   "cell_type": "markdown",
   "metadata": {},
   "source": [
    "We see a moderate positive correlation between average_rating and popularity and a weak positive correlation between average_rating and profit. These values represent the pearson correlation coefficient, so it measures the strength of a linear relationship. It may be better to use the spearman's correlation coefficient for Average Rating versus Profit to find if there is a monotonic relationship between the two variables.\n",
    "\n",
    "To answer the original question, there clearly is a moderate positive correlation between Average Rating and Popularity, so higher popularity is correlated with higher average rated adventure-genre pairs. There is a weak positive correlation between Average Rating and Profit, so higher profit is weakly correlated with higher average rated adventure-genre pairs."
   ]
  },
  {
   "cell_type": "markdown",
   "metadata": {},
   "source": [
    "### Are the classics rated higher on average compared to more modern movies?"
   ]
  },
  {
   "cell_type": "markdown",
   "metadata": {},
   "source": [
    "Create separate data frames between the classics and non-classics so that we can find the average rating for all the movies for each group separately."
   ]
  },
  {
   "cell_type": "code",
   "execution_count": 53,
   "metadata": {
    "collapsed": true
   },
   "outputs": [],
   "source": [
    "df_no = df_4[df_4['classic'] == 'no']\n",
    "df_yes = df_4[df_4['classic'] == 'yes']"
   ]
  },
  {
   "cell_type": "markdown",
   "metadata": {},
   "source": [
    "Compute average rating for non-classics"
   ]
  },
  {
   "cell_type": "code",
   "execution_count": 54,
   "metadata": {},
   "outputs": [
    {
     "data": {
      "text/plain": [
       "6.566085054661758"
      ]
     },
     "execution_count": 54,
     "metadata": {},
     "output_type": "execute_result"
    }
   ],
   "source": [
    "sum(df_no['vote_count'] * df_no['vote_average']) / sum(df_no['vote_count'])\n"
   ]
  },
  {
   "cell_type": "markdown",
   "metadata": {},
   "source": [
    "This means that within the non-classics aka movies made in 1993 or later have an average rating of 6.566085054661758."
   ]
  },
  {
   "cell_type": "markdown",
   "metadata": {},
   "source": [
    "Compute average rating for classics"
   ]
  },
  {
   "cell_type": "code",
   "execution_count": 55,
   "metadata": {},
   "outputs": [
    {
     "data": {
      "text/plain": [
       "6.893072315948644"
      ]
     },
     "execution_count": 55,
     "metadata": {},
     "output_type": "execute_result"
    }
   ],
   "source": [
    "sum(df_yes['vote_count'] * df_yes['vote_average']) / sum(df_yes['vote_count'])"
   ]
  },
  {
   "cell_type": "markdown",
   "metadata": {},
   "source": [
    "This means that within the classics aka movies made in 1992 or earlier have an average rating of 6.8930723159486442."
   ]
  },
  {
   "cell_type": "markdown",
   "metadata": {},
   "source": [
    "From this we see that the classics are rated higher on average compared to more modern movies since 6.8930723159486442 > 6.566085054661758."
   ]
  },
  {
   "cell_type": "markdown",
   "metadata": {},
   "source": [
    "### Are longer movies rated higher on average than shorter movies?"
   ]
  },
  {
   "cell_type": "markdown",
   "metadata": {},
   "source": [
    "Create separate data frames between the long movies and shorter movies so that we can find the average rating for all the movies for each group separately."
   ]
  },
  {
   "cell_type": "code",
   "execution_count": 56,
   "metadata": {
    "collapsed": true
   },
   "outputs": [],
   "source": [
    "df_short = df_5[df_5['movie_long'] == 'no']\n",
    "df_long = df_5[df_5['movie_long'] == 'yes']"
   ]
  },
  {
   "cell_type": "markdown",
   "metadata": {},
   "source": [
    "Compute average rating for short movies"
   ]
  },
  {
   "cell_type": "code",
   "execution_count": 57,
   "metadata": {},
   "outputs": [
    {
     "data": {
      "text/plain": [
       "6.295919823866239"
      ]
     },
     "execution_count": 57,
     "metadata": {},
     "output_type": "execute_result"
    }
   ],
   "source": [
    "sum(df_short['vote_count'] * df_short['vote_average']) / sum(df_short['vote_count'])"
   ]
  },
  {
   "cell_type": "markdown",
   "metadata": {},
   "source": [
    "This means that within the short movies aka movies 110 minutes or shorter have an average rating of 6.2959198238662388."
   ]
  },
  {
   "cell_type": "markdown",
   "metadata": {},
   "source": [
    "Compute average rating for long movies"
   ]
  },
  {
   "cell_type": "code",
   "execution_count": 58,
   "metadata": {},
   "outputs": [
    {
     "data": {
      "text/plain": [
       "6.882484795072453"
      ]
     },
     "execution_count": 58,
     "metadata": {},
     "output_type": "execute_result"
    }
   ],
   "source": [
    "sum(df_long['vote_count'] * df_long['vote_average']) / sum(df_long['vote_count'])"
   ]
  },
  {
   "cell_type": "markdown",
   "metadata": {},
   "source": [
    "This means that within the long movies aka movies longer than 110 minutes have an average rating of 6.882484795072453."
   ]
  },
  {
   "cell_type": "markdown",
   "metadata": {},
   "source": [
    "From this we see that the long movies are higher rated on average compared to shorter movies since 6.882484795072453 > 6.2959198238662388."
   ]
  },
  {
   "cell_type": "markdown",
   "metadata": {},
   "source": [
    "<a id='conclusions'></a>\n",
    "## Conclusions"
   ]
  },
  {
   "cell_type": "markdown",
   "metadata": {},
   "source": [
    "**Overall Limitations:** Since the data only includes up to movies up to the year 2015 and as early as 1960, the conclusions and inferences only apply to movies found in that range. The data set and genre tags were taken from TMDB, so the conclusions and inferences can also only be applied to movies found on that website. In addition, foreign movies most likely excluded from the data set or not entirely included and if they are present it was not taken account to during this analysis. So, conclusions and inferences can only be applied to movies in English.\n",
    "\n",
    "**Question 1: Which genre contributes the most profit?**\n",
    "\n",
    "**Answer:** From determining the profit of individual genres, we determine that Adventure is the genre that contributes most to profit because it has the highest profit out of all the genres.\n",
    "\n",
    "**Possible application:** This could be useful to the movie industry to determine what kind of genre the next movie should be to maximize profits.\n",
    "\n",
    "**Question specific limitations:** In this analysis the profit was only briefly looked at and there could be many other factors that may have impacted the results. For an example, a few movies could have generated a much larger profit compared to the other movies. This could mean that the median profit earned for that genre be a lower number compared to the average and be a lower profit when compared to another genre with a lower average but higher median. Also, about 7000 observations were lost in the dataset because of missing values in budget and revenue. The revenue values also may not be accurate and the information in the data set is not gauranteed to be up to date with reality. In a future investigation, it may be better to build a linear regression model around profit in order to find the best predictors for profit and then would know how to maximize profit in order to have better application to the entertainment industry.\n",
    "\n",
    "**Question 2: Which genres drive the Adventure genre upward in average rating?**\n",
    "\n",
    "**Answer:** By examining both the full dataset and reduced dataset average rating across the adventure-genre pairings, we find that animation, drama, family, fantasy, mystery, science fiction, war, and western are the genres when paired when adventure drives the average rating upward for both datasets. The Adventure-Documentary was highly impactful on the full data set but not on the reduced dataset because there were not any Adventure-Documentary movies in the reduced data set. Since the distribution of the other genre pairs are relatively the same, this is most likely just an issue with the lack of data since 7000 observations were lost. It is fairly safe to say that Adventure-Documentary movies also drive the Adventure genre upward in average rating.\n",
    "\n",
    "**Possible application:** This could be useful to the movie industry to determine what kind of genres to mix with Adventure in order to obtain a high movie rating.\n",
    "\n",
    "**Question 3: Are higher rated pairs correlated with higher popularity or higher profit?**\n",
    "\n",
    "**Answer:** Higher popularity is moderately correlated with higher average rated adventure-genre pairs. Higher profit is weakly correlated with higher average rated adventure-genre pairs. This does not mean that higher rated movies cause movies to be more popular or vice versa despite a moderate strength relationship.\n",
    "\n",
    "**Question specific limitations:** The documentary-adventure pair was removed for both comparisons since the reduced dataset did not have any documentary-adventure movies. Having more data in this category could change the conclusions slightly. The relationship between Average Rating and Profit may not be linear so the weak positive correlation found may not be valid. A spearman's correlation value may be better to use here which could change the interpretaion of the conclusion. To see a more cause-effect relationship it would be better to build a linear regression model around say popularity and see if average rating is a good predictor.\n",
    "\n",
    "**Question 4: Are the classics rated higher on compared to more modern movies?**\n",
    "\n",
    "**Answer:** The classics are higher rated on average compared to more modern movies.\n",
    "\n",
    "**Possible application:** The movie industry could examine classic movies to determine properties that make the classics and more modern movies different to make a movie that includes more properties from the classics to achieve a higher movie rating.\n",
    "\n",
    "**Question specific limitation:** The definition of a classic in this analysis is a movie 25 years or older. To compensate for some error, movies made in 1992 or earlier are classics. However, the highest year released point was 2015 so 25 years would actually make it 1989 to be safe. Since I based it around the current year of 2018 but the dataset is limited to 2015 and before, these conclusions may not be valid. There also may be bias because more recent movies have \"hype\" and social media whereas back then people didn't have ways to see what movie is popular around the time. So the number of people that bothers to watch and rate old movies may not be as many as those who watch more recent movies which in turn makes modern movies more lower because it attracts every audience. For older movies, perhaps only hobbyists who want to watch old movies may be watching and rating them, inflating the ratings since a hobbyist is more likely to rate a movie high that an overall audience may rate lower. In essence, it could be that the population of people rating the movies could be different in the two groups which makes the results invalid. Given the dataset and information, there is no way to know who is the population in this case.\n",
    "\n",
    "**Question 5: Are longer movies rated higher on average than shorter movies?**\n",
    "\n",
    "**Answer:** Longer movies are higher rated than short movies.\n",
    "\n",
    "**Possible application:** The movie industry could note this and make longer movies rather than shorter ones if they are aiming to achieve a high movie rating.\n",
    "\n",
    "**Question specific limitations:** The definition of what a long movie is and a short movie was made arbitrarily. This definition was based on movies longer than 110 were considered long and short otherwise. This does not mean that the longer a movie is, the higher rated it becomes and vice versa. It happens to be that movies longer than 110 minutes on average are rated higher than movies shorter than that. In a future study, it would be good to examine the point at which a movie is at the peak average rating since there is most likely a point at which a movie length reaches maximizes the average rating and adding to the length even more reduces the average rating. A regression model may also be helpful in determining if movie length is a good preidctor of average rating."
   ]
  }
 ],
 "metadata": {
  "kernelspec": {
   "display_name": "Python 3",
   "language": "python",
   "name": "python3"
  },
  "language_info": {
   "codemirror_mode": {
    "name": "ipython",
    "version": 3
   },
   "file_extension": ".py",
   "mimetype": "text/x-python",
   "name": "python",
   "nbconvert_exporter": "python",
   "pygments_lexer": "ipython3",
   "version": "3.6.2"
  }
 },
 "nbformat": 4,
 "nbformat_minor": 2
}
