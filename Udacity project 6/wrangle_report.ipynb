{
 "cells": [
  {
   "cell_type": "markdown",
   "metadata": {},
   "source": [
    "After obtaining all three data files, I began assessing and cleaning them. \n",
    "\n",
    "In the Twitter Archive data, there were missing values and incorrect datatypes for several columns. I removed columns with missing data except for the expanded_urls variable. The tweet_id variable was changed to a string. The doggo, floofer, pupper, and puppo columns are one variable stored into multiple columns. I made them into a single column and then changed the data type to a category. The rating_numerator was incorrectly extracted from the text. Decimals were excluded in particular. I used a regular expression to extract the correct rating from the text. I properly took care of some oddball cases such as a tweet with no rating or the tweets with multiple ratings in a single tweet. The second rating in these cases were the true rating. I rounded the numbers to the nearest integer and stored them as integers. The rating_denominator column had invalid values where all of them should be 10. They were changed to all denominators of 10. The rating_numerator had a similar issue with values such as 15 or greater or 0. It was unclear whether these were serious ratings or arbitrary. I pooled the 0 ratings to the 1 rating and ratings 15 or greater to the 14 rating.\n",
    "\n",
    "In the Image Prediction data, the names under p1 and p2 were inconsistently upper or lower-case. I removed the _ between the words and capitalized every word in the name for both p1 and p2 columns. There were also incorrect data types in two columns. I changed the tweet_id variable to a string data type and img_num to a category.\n",
    "\n",
    "In the Retweet data, the variables are coded as rows instead of columns. I transposed the data to remedy the issue. The index was reset and the old index was removed. There is also a \"text\" variable here which is duplicated information from the text variable in the Twitter Archive data. Since the data was transposed, the data types were all coerced as string or objects which are incorrect for several variables. Since we are only interested in a few columns, we extracted id, retweet_count, and favorite_count only. The id column was renamed to tweet_id to have the same column name as the other tables. The retweet_count and favorite_count variables were changed to int64 data types.\n",
    "\n",
    "The three cleaned datasets were merged into one using a left join starting with the Twitter Archive data on tweet_id.\n",
    "\n",
    "During the analysis process, I found an additional data quality issue. There were 170 instances of tweets having a number of retweets but 0 favorites. I deemed this impossible, so I removed these tweets from the dataset."
   ]
  },
  {
   "cell_type": "code",
   "execution_count": null,
   "metadata": {
    "collapsed": true
   },
   "outputs": [],
   "source": []
  }
 ],
 "metadata": {
  "kernelspec": {
   "display_name": "Python 3",
   "language": "python",
   "name": "python3"
  },
  "language_info": {
   "codemirror_mode": {
    "name": "ipython",
    "version": 3
   },
   "file_extension": ".py",
   "mimetype": "text/x-python",
   "name": "python",
   "nbconvert_exporter": "python",
   "pygments_lexer": "ipython3",
   "version": "3.6.2"
  }
 },
 "nbformat": 4,
 "nbformat_minor": 2
}
